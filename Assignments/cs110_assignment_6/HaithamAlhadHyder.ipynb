{
 "cells": [
  {
   "cell_type": "markdown",
   "metadata": {},
   "source": [
    "# Plagiarism detection\n",
    "\n",
    "**Plagiarism** is the use of another's work and ideas as if they are one's original work. For many institutions, it is a habit that is highly discouraged. In the case of an educational institution, we would want to identify cases of plagiarism so that students can receive a stick for such a habit and thereby discouraging them. However, being in the realm of natural language (with changing rules), the detection of plagiarism is a much more formidable problem than it seems at first. Therefore, in this report, we will look at a method that implements a machine learning algorithm so that as the data of users evolve, so will the detection techniques."
   ]
  },
  {
   "cell_type": "markdown",
   "metadata": {},
   "source": [
    "## Feature selection"
   ]
  },
  {
   "cell_type": "markdown",
   "metadata": {},
   "source": [
    "### String matching\n",
    "\n",
    "If we have two student submissions, _\" today is Monday\"_ and _\"day\"_, concatenating all the words and converting it to lower case, we can point out common substrings of length k (_k-gram_). In this case, if `k` is 3, then the possible (i, j) positions of matches in the first and second strings are (2, 0) and (10, 0). \n",
    "\n",
    "**NOTE:** We do not have to get rid of the spaces but to make our solution much more straightforward, we need to have all the strings in lower case.\n",
    "\n",
    "The following forms the basis of the **containment** feature that compares the occurrences of _k-grams_ in a submitted and source text, relative to the traits of the answer text. The formula for containment is: $$\\frac{\\sum count(\\text{k-gram}_{A}) \\cap count(\\text{k-gram}_{s}) }{\\sum count(\\text{k-gram}_{A}) }$$\n",
    "\n",
    "There are two methods that we will explore that enables us to calculate such matches:\n",
    "1. Rolling hashing\n",
    "2. Regular hash matching\n",
    "\n",
    "> **Citation:** Thomas H. Cormen. “Introduction to Algorithms”. Apple Books. https://books.apple.com/us/book/introduction-to-algorithms/id570172300"
   ]
  },
  {
   "cell_type": "markdown",
   "metadata": {},
   "source": [
    "#### Rolling hashing\n",
    "\n",
    "To use the rolling hashing technique, we will implement the _Rabin Karp_ algorithm. It has a matching time complexity of $O((n-m+1)m)$, whereby $n$ is the length of the answer text and $m$ is the length of the source text\n"
   ]
  },
  {
   "cell_type": "code",
   "execution_count": 1,
   "metadata": {},
   "outputs": [
    {
     "data": {
      "text/plain": [
       "[2, 12]"
      ]
     },
     "execution_count": 1,
     "metadata": {},
     "output_type": "execute_result"
    }
   ],
   "source": [
    "import helpers\n",
    "\n",
    "# Example usage of Rabin Karp\n",
    "source = \"today is monday\"\n",
    "answer = \"day\"\n",
    "\n",
    "helpers.rabin_karp_matcher(\n",
    "    target=source,\n",
    "    potential=answer,\n",
    "    d=7,\n",
    "    q=10\n",
    ")"
   ]
  },
  {
   "cell_type": "markdown",
   "metadata": {},
   "source": [
    "The output of the above method is the positions, the potential text appears in the target text. As we can see _\"day\"_ appears in the source text at indexes 2 and 12 (2 occurrences)."
   ]
  },
  {
   "cell_type": "markdown",
   "metadata": {},
   "source": [
    "#### Regular hash matching"
   ]
  }
 ],
 "metadata": {
  "kernelspec": {
   "display_name": "Python 3",
   "language": "python",
   "name": "python3"
  },
  "language_info": {
   "codemirror_mode": {
    "name": "ipython",
    "version": 3
   },
   "file_extension": ".py",
   "mimetype": "text/x-python",
   "name": "python",
   "nbconvert_exporter": "python",
   "pygments_lexer": "ipython3",
   "version": "3.7.6"
  }
 },
 "nbformat": 4,
 "nbformat_minor": 4
}
