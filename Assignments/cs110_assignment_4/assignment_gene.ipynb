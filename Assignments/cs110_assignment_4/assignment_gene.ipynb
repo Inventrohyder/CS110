{
 "cells": [
  {
   "cell_type": "markdown",
   "metadata": {
    "deletable": false,
    "editable": false,
    "nbgrader": {
     "cell_type": "markdown",
     "checksum": "a46f42bc9b10554a85434134a4f5d417",
     "grade": false,
     "grade_id": "cell-3258a102d560141a",
     "locked": true,
     "schema_version": 3,
     "solution": false,
     "task": false
    }
   },
   "source": [
    "\n",
    "# CS110 Spring 2020 - Assignment 4\n",
    "# Decoding relationships between genes\n",
    "\n",
    "## Notes on the Submission Materials\n",
    "\n",
    "1. Your **first resource** should be a PDF file created from the Jupyter notebook template provided in these instructions. If your name is “Dumbledore”, your PDF should be named “Dumbledore.pdf”. **For best results, follow [this guide](https://docs.google.com/document/d/1SJbsx0r2Kh0VsmF_t_q84awPK-88yZlK8nO7pHWtFBA/edit?usp=sharing) to convert the Jupyter Notebook to a PDF. Regardless of the method you choose, make sure that, in your PDF submission, texts can be selected/ highlighted.**\n",
    "2. Your **second resource** must be a single Jupyter Notebook named “Dumbledore.ipynb”. Alternatively, you can also submit a zip file that includes your Jupyter notebook, but please make sure to name it “Dumbledore.zip” (the Jupyter notebook submitted as part of such zip file should still be named “Dumbledore.ipynb”!).\n",
    "    * You can add more cells to expand your answers but do not copy cells within the notebook.\n",
    "    * Only submit one .ipynb file (as opposed to multiple different .ipynb files).\n",
    "    * If you submit a .zip file, it needs to be a flat directory.\n",
    "\n",
    "\n",
    "## Notes on the Grading Rubrics\n",
    "\n",
    "* This is a strictly individual assignment. Everything you submit must reflect your own writing and coding. Please do refer to the course guidelines on the syllabus namely in what constitutes plagiarism. \n",
    "* All the tasks will be graded on the indicated companion LOs; please make sure to consult their descriptions and rubrics in the course syllabus to maximally align your approach to them. You will not be penalized for not attempting the optional challenge.\n",
    "* As per the course’s policy on the syllabus, you will need to footnote at least three HCs by including a meaningful justification of the application of each HC and explaining in detail how they enabled you to complete this assignment. Please refer to [these guidelines](https://docs.google.com/document/d/1s7yOVOtMIaHQdKLeRmZbq1gRqwJKfezBsfru9Q6PcHw/edit) on how to incorporate HCs in your work.\n",
    "\n",
    "\n",
    "## Overview\n",
    "Gene Mutation is a prevailing and computationally intensive research topic in Genetics. For this assignment, assume that you have been hired by a biotechnology company to work on a gene mutation research project, and your first task is to write a Python program to investigate a genealogical mutation sequencing.\n",
    "\n",
    "\n",
    "In this program, a gene is described by a string of letters, with a letter being chosen from the set ${A, C, G, T}$. A mutation is relatively rare but it can occur in which there is a small probability of either inserting a new character, deleting an existing character, or changing to a new character randomly. We can refer to these probabilities by $p_i, p_d$, and $p_c$, respectively.\n",
    "\n",
    "\n",
    "Now, suppose the starting point is a given string that undergoes a mutation process. This mutation created two other strings, the child strings of the first string. Each of these two new strings can undergo mutations by which they will change from their parent. In turn, the two-child strings, mutate and create 2 new substrings each, resulting in four grandchild strings from the original gene sequencing string. We can easily visualize the sequence of mutations if we were to draw a genealogy binary tree relating strings to their parent and grandparent strings.\n",
    "\n",
    "As a result of these mutations, we now have 7 strings but unfortunately, the order of the strings has been lost due to a glitch in the gene sequencing generation program. Therefore, your first task in the project is to recover the genealogy tree for the following set of 7 strings labelled with lowercase letters:\n",
    "``` python\n",
    "('a', 'AGTTATGTGTCAGAGCAAAAGATTCCTCATCTAGCGGTCGCAAGTCATTGCC'),\n",
    "('b', 'AAGTTATTTGCTCACAGGGAACGAATCCAGCTCTGCGGTCGAGGCCACATTGCC'),\n",
    "('c', 'AGTTATTTTCAGAGAAATGATTCCTTCTCACCGGTCGAGCCAGTGCC'),\n",
    "('d', 'AGTTTATGTGTCAGAAGCAAAAGATTACTAATCTACGCGTCGCAAGGTCTATTCC'),\n",
    "('e', 'ACAGCTTATATAGCTCATAGGGAGCGAAATCCAGCCCCGCGGTGCGAGGCCCCTTGTCGC'),\n",
    "('f', 'AAGTATATGGCACGAGGGAACAGTATCAGCTCTTCGGATAAAGGCCACAGTGCC'),\n",
    "('g', 'AGTTATGTGTCACAGGCAAAAGATCCTTCTCTGCGGTCGAACCCATTGCC')\n",
    "```\n",
    "\n",
    "\n",
    "Henceforth, the set of strings created with the gene-sequencing generation program will be referred to as `Set_Strings`.\n",
    "\n",
    "# Assignment Questions\n",
    "\n",
    "Each of the questions below will be graded on the CS110 LOs included inside square brackets:\n",
    "\n",
    "## Task 1. [#responsibility] [appropriate LO for the make-up work] \n",
    "\n",
    "Take a screenshot of your CS110 dashboard on Forum where the following is visible: \n",
    "* your name.\n",
    "* your absences for the course have been set to excused up to the end of week 11 (inclusively). \n",
    "\n",
    "Submit this screenshot as a PNG file on your Jupyter notebook. \n"
   ]
  },
  {
   "cell_type": "code",
   "execution_count": null,
   "metadata": {
    "deletable": false,
    "nbgrader": {
     "cell_type": "code",
     "checksum": "57b473905b4013ea283a6bbbf5afafee",
     "grade": true,
     "grade_id": "cell-8f99871acb8d9653",
     "locked": false,
     "points": 0,
     "schema_version": 3,
     "solution": true,
     "task": false
    }
   },
   "outputs": [],
   "source": [
    "# YOUR CODE HERE\n",
    "raise NotImplementedError()"
   ]
  },
  {
   "cell_type": "markdown",
   "metadata": {
    "deletable": false,
    "editable": false,
    "nbgrader": {
     "cell_type": "markdown",
     "checksum": "d5523b0920f3e7a3d04257989e7e3680",
     "grade": false,
     "grade_id": "cell-60d7379c25ef5472",
     "locked": true,
     "schema_version": 3,
     "solution": false,
     "task": false
    }
   },
   "source": [
    "\n",
    "## Task 2. [#DynamicProgramming, #PythonProgramming, #CodeReadability] \n",
    "\n",
    "Write Python code which, given any two arbitrary strings, outputs the length of the Longest Common Subsequence (LCS) for those two strings. Make sure to include a number of test cases that demonstrate that your code is correct."
   ]
  },
  {
   "cell_type": "code",
   "execution_count": null,
   "metadata": {
    "deletable": false,
    "nbgrader": {
     "cell_type": "code",
     "checksum": "ce99a7ecdf730683add061c1c36c204d",
     "grade": false,
     "grade_id": "cell-63d0dc281b5784e0",
     "locked": false,
     "schema_version": 3,
     "solution": true,
     "task": false
    }
   },
   "outputs": [],
   "source": [
    "import numpy as np\n",
    "def longest_common_subsequence(x, y):\n",
    "    \"\"\"\n",
    "    Gives the length of the longest common substring between strings x and y\n",
    "    \n",
    "    Inputs:\n",
    "    - x, y: strings\n",
    "    \"\"\"\n",
    "    # YOUR CODE HERE\n",
    "    raise NotImplementedError()"
   ]
  },
  {
   "cell_type": "code",
   "execution_count": null,
   "metadata": {
    "deletable": false,
    "editable": false,
    "nbgrader": {
     "cell_type": "code",
     "checksum": "2591791f0c3b520a96f6977e5da32368",
     "grade": true,
     "grade_id": "cell-329d830ec2e7ebb5",
     "locked": true,
     "points": 1,
     "schema_version": 3,
     "solution": false,
     "task": false
    }
   },
   "outputs": [],
   "source": [
    "assert longest_common_subsequence('ABCBDAB', 'BDCABA')==4\n",
    "assert longest_common_subsequence('abc', '') == 0\n",
    "assert longest_common_subsequence('abc', 'a') == 1\n",
    "assert longest_common_subsequence('abc', 'ac') == 2"
   ]
  },
  {
   "cell_type": "markdown",
   "metadata": {
    "deletable": false,
    "editable": false,
    "nbgrader": {
     "cell_type": "markdown",
     "checksum": "c53beb45d361de2cd1900b5864cd5d57",
     "grade": false,
     "grade_id": "cell-512b0f43ce6a1d6f",
     "locked": true,
     "schema_version": 3,
     "solution": false,
     "task": false
    }
   },
   "source": [
    "## Task 3. [#DynamicProgramming] \n",
    "\n",
    "How many LCSs are there in Set_Strings? Generate the matrix of the lengths of the LCS for every pair of strings in Set_Strings. Make sure that your matrix obeys the following properties:\n",
    "1. The matrix should be cast as a two-dimensional numpy array.  **Store this 2D numpy array to a variable named `C`**.\n",
    "\n",
    "2. Your 2D array `C` should have dimension (7,7) and `C[i,j]` should give the length of the LCS for the $i-$th and $j-$th strings. For example, `C[0,3]` gives the length of the LCS for string `a` and string `d`."
   ]
  },
  {
   "cell_type": "code",
   "execution_count": null,
   "metadata": {
    "deletable": false,
    "nbgrader": {
     "cell_type": "code",
     "checksum": "337eeb3a5a408c7bc5e1cf3d22a76d23",
     "grade": false,
     "grade_id": "cell-c9ffd6de81af5096",
     "locked": false,
     "schema_version": 3,
     "solution": true,
     "task": false
    }
   },
   "outputs": [],
   "source": [
    "# YOUR CODE HERE\n",
    "raise NotImplementedError()"
   ]
  },
  {
   "cell_type": "code",
   "execution_count": null,
   "metadata": {
    "deletable": false,
    "editable": false,
    "nbgrader": {
     "cell_type": "code",
     "checksum": "e1da083a88ad8cf3ab411cd870dafcb4",
     "grade": true,
     "grade_id": "cell-36e68845ee5258a7",
     "locked": true,
     "points": 1,
     "schema_version": 3,
     "solution": false,
     "task": false
    }
   },
   "outputs": [],
   "source": [
    "# Please ignore this cell. This cell is for us to implement the tests \n",
    "# to see if your code works properly. "
   ]
  },
  {
   "cell_type": "markdown",
   "metadata": {
    "deletable": false,
    "editable": false,
    "nbgrader": {
     "cell_type": "markdown",
     "checksum": "3bbd6e8a5d852311240839a178188483",
     "grade": false,
     "grade_id": "cell-e598c2cb440302ad",
     "locked": true,
     "schema_version": 3,
     "solution": false,
     "task": false
    }
   },
   "source": [
    "## Task 4. [#DataStructures]\n",
    "Manually examine the matrix you obtained above, and infer the genealogical relationships between strings (i.e., explicitly identify the great-grandparent, grandparent, parent and child strings) using **at least** two strategies: one that  is **local** and another that is **global**. A local strategy infers the location of a particular string in the tree based on a property (of your choice) of the node itself. A global strategy infers the whole tree based on a metric obtained by considering all the relationships involved in that tree at once. You may need to research what a good metric could be to describe global relationships (i.e., beyond what was discussed in class). \n",
    "\n",
    "After describing and implementing your strategies, draw the resulting genealogy binary tree(s) associated with Set_Strings resulting from each strategy. Comment on whether the results are expected to be the same or different and provide a concise explanation for these results. "
   ]
  },
  {
   "cell_type": "code",
   "execution_count": null,
   "metadata": {
    "deletable": false,
    "nbgrader": {
     "cell_type": "code",
     "checksum": "95ce8cd90fba7227085c13c6596dccbf",
     "grade": true,
     "grade_id": "cell-f821d1fa1b4c8508",
     "locked": false,
     "points": 0,
     "schema_version": 3,
     "solution": true,
     "task": false
    }
   },
   "outputs": [],
   "source": [
    "# YOUR CODE HERE\n",
    "raise NotImplementedError()"
   ]
  },
  {
   "cell_type": "markdown",
   "metadata": {
    "deletable": false,
    "editable": false,
    "nbgrader": {
     "cell_type": "markdown",
     "checksum": "3672867029597deac185e46992812007",
     "grade": false,
     "grade_id": "cell-d35ea5d12d941894",
     "locked": true,
     "schema_version": 3,
     "solution": false,
     "task": false
    }
   },
   "source": [
    "## Task 5. [#PythonProgramming, #CodeReadability, #DynamicProgramming or #GreedyAlgorithms] \n",
    "\n",
    "Write an algorithm in Python for the general case, which takes as input $N$ sequencing strings and outputs a genealogy binary tree associated with the $N$ strings that best exposes the relationships between them. You should test your algorithm by providing at least two simple test cases that demonstrate that your algorithmic implementation is correct. "
   ]
  },
  {
   "cell_type": "code",
   "execution_count": null,
   "metadata": {
    "deletable": false,
    "nbgrader": {
     "cell_type": "code",
     "checksum": "f064d5a4d1e2fced3c27465b3ca885ac",
     "grade": true,
     "grade_id": "cell-cc46da731bc31efb",
     "locked": false,
     "points": 0,
     "schema_version": 3,
     "solution": true,
     "task": false
    }
   },
   "outputs": [],
   "source": [
    "# YOUR CODE HERE\n",
    "raise NotImplementedError()"
   ]
  },
  {
   "cell_type": "markdown",
   "metadata": {
    "deletable": false,
    "editable": false,
    "nbgrader": {
     "cell_type": "markdown",
     "checksum": "5c7e64a3a5f38d6a4bd4da3e44ca7fce",
     "grade": false,
     "grade_id": "cell-bb5384e631da649b",
     "locked": true,
     "schema_version": 3,
     "solution": false,
     "task": false
    }
   },
   "source": [
    "## Task 6. [#ComputationalCritique] \n",
    "\n",
    "Enumerate any strengths or weaknesses of your suggested algorithm, justifying how you could improve it."
   ]
  },
  {
   "cell_type": "markdown",
   "metadata": {
    "deletable": false,
    "nbgrader": {
     "cell_type": "markdown",
     "checksum": "df3b02b781216c548993e1ba6b382b39",
     "grade": true,
     "grade_id": "cell-7970c4575d5f3848",
     "locked": false,
     "points": 0,
     "schema_version": 3,
     "solution": true,
     "task": false
    }
   },
   "source": [
    "YOUR ANSWER HERE"
   ]
  },
  {
   "cell_type": "markdown",
   "metadata": {
    "deletable": false,
    "editable": false,
    "nbgrader": {
     "cell_type": "markdown",
     "checksum": "0f91394da1434eefa1f4366a02dd703e",
     "grade": false,
     "grade_id": "cell-99b74e2bf6d4f715",
     "locked": true,
     "schema_version": 3,
     "solution": false,
     "task": false
    }
   },
   "source": [
    "## Task 7. [#ComplexityAnalysis] \n",
    "\n",
    "What is the computational complexity of your solution to produce genealogy binary trees? You can consider $M$ to be the length of a gene, and $N$ the number of genes."
   ]
  },
  {
   "cell_type": "markdown",
   "metadata": {
    "deletable": false,
    "nbgrader": {
     "cell_type": "markdown",
     "checksum": "3c77f529d443c6d7503ab53c7746d29f",
     "grade": true,
     "grade_id": "cell-4c388fb7ced4f3bf",
     "locked": false,
     "points": 0,
     "schema_version": 3,
     "solution": true,
     "task": false
    }
   },
   "source": [
    "YOUR ANSWER HERE"
   ]
  },
  {
   "cell_type": "markdown",
   "metadata": {
    "deletable": false,
    "editable": false,
    "nbgrader": {
     "cell_type": "markdown",
     "checksum": "f62fcac6f8558d22f52a613376af012a",
     "grade": false,
     "grade_id": "cell-573aae17ca2dc9ad",
     "locked": true,
     "schema_version": 3,
     "solution": false,
     "task": false
    }
   },
   "source": [
    "## Task 8. [#ComputationalSolutions, #PythonProgramming, #CodeReadability] \n",
    "\n",
    "How would you estimate the probabilities of insertions, deletions, and mutations, $p_i$, $p_d$, and $p_c$, respectively? (Hint: It is obvious that you don’t have enough data to obtain meaningful estimates for large datasets, but this small dataset has enough information for you to intuitively formulate estimates for $p_i$, $p_d$, and $p_c$.) Make sure you include a working Python estimation that would take your algorithmic strategy into practice. If you obtain estimates for these probabilities, please critically assess the results you obtained. \n"
   ]
  },
  {
   "cell_type": "markdown",
   "metadata": {
    "deletable": false,
    "nbgrader": {
     "cell_type": "markdown",
     "checksum": "292eef12ce17b22d973c4fc8bf162b58",
     "grade": true,
     "grade_id": "cell-5e57033866b2d7e6",
     "locked": false,
     "points": 0,
     "schema_version": 3,
     "solution": true,
     "task": false
    }
   },
   "source": [
    "YOUR ANSWER HERE"
   ]
  }
 ],
 "metadata": {
  "kernelspec": {
   "display_name": "Python 3",
   "language": "python",
   "name": "python3"
  },
  "language_info": {
   "codemirror_mode": {
    "name": "ipython",
    "version": 3
   },
   "file_extension": ".py",
   "mimetype": "text/x-python",
   "name": "python",
   "nbconvert_exporter": "python",
   "pygments_lexer": "ipython3",
   "version": "3.6.5"
  }
 },
 "nbformat": 4,
 "nbformat_minor": 4
}
