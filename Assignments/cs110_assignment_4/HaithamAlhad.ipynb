{
 "cells": [
  {
   "cell_type": "markdown",
   "metadata": {},
   "source": [
    "# Gene Mutation"
   ]
  },
  {
   "cell_type": "markdown",
   "metadata": {},
   "source": [
    "## Introduction\n",
    "\n",
    "**Gene mutations** are permanent alterations in a DNA sequence that makes up a _gene_, such that, it is different from that of its parent.\n",
    "\n",
    "> **Citation:** Genetics Home Reference. n.d. “What Is a Gene Mutation and How Do Mutations Occur?” Genetics Home Reference. https://ghr.nlm.nih.gov/primer/mutationsanddisorders/genemutation.\n",
    "\n",
    "In this assignment, we will be exploring this phenomenon in more detail as we develop a python program that is capable of being used by biotechnological companies in their genetic research projects.\n",
    "\n",
    "A _gene_ is the basic physical and functional unit of hereditary.  DNA bases make up gene strings. The bases can take a value from the set ${A, C, G, T}$. Mutations are relatively rare but there are tiny probabilities of _inserting_ a new character ($p_{i}$), _deleting_ and existing character($p_{d}$), or _changing_ to a new character randomly ($p_{c}$). \n",
    "\n",
    "If we have a starting _gene string_ and it carries out asexual reproduction that creates two child strings, there is a chance that any of the mutation processes might occur. The two children might also produce two other children each, and they might still have undergone mutation. As we can notice, this forms a binary genealogical tree.\n",
    "\n",
    "Our task involves building this tree if we are given the 7 strings. The example we will be working with is, `Set_Strings`:\n",
    "``` python\n",
    "('a', 'AGTTATGTGTCAGAGCAAAAGATTCCTCATCTAGCGGTCGCAAGTCATTGCC'),\n",
    "('b', 'AAGTTATTTGCTCACAGGGAACGAATCCAGCTCTGCGGTCGAGGCCACATTGCC'),\n",
    "('c', 'AGTTATTTTCAGAGAAATGATTCCTTCTCACCGGTCGAGCCAGTGCC'),\n",
    "('d', 'AGTTTATGTGTCAGAAGCAAAAGATTACTAATCTACGCGTCGCAAGGTCTATTCC'),\n",
    "('e', 'ACAGCTTATATAGCTCATAGGGAGCGAAATCCAGCCCCGCGGTGCGAGGCCCCTTGTCGC'),\n",
    "('f', 'AAGTATATGGCACGAGGGAACAGTATCAGCTCTTCGGATAAAGGCCACAGTGCC'),\n",
    "('g', 'AGTTATGTGTCACAGGCAAAAGATCCTTCTCTGCGGTCGAACCCATTGCC')\n",
    "```"
   ]
  },
  {
   "cell_type": "markdown",
   "metadata": {},
   "source": [
    "### Longest Common Subsequence\n",
    "\n",
    "Before, we look into the mutations. We need to compare two strings and find out the _longest common subsequence_ (LCS) of them. Such a number will be useful in finding how much a particular string resembles another.\n",
    "\n",
    "Using [#DynamicProgramming](https://seminar.minerva.kgi.edu/app/outcome-index/learning-outcomes/cs110-DynamicProgramming?course_id=989) is a better solution since there are _overlapping subproblems_ whereby we need to identify the LCS of each substring within string a in a substring within string b. Also, the problem has an _optimal substructure_ whereby there is an optimal LCS value within each breakdown. That means we can use solutions to the subproblems to solve the main problem."
   ]
  },
  {
   "cell_type": "code",
   "execution_count": 1,
   "metadata": {},
   "outputs": [
    {
     "name": "stdout",
     "output_type": "stream",
     "text": [
      "Tests Passed!\n"
     ]
    }
   ],
   "source": [
    "# Carrying out tests of our LCS function\n",
    "import helpers\n",
    "import problem_unittests\n",
    "\n",
    "problem_unittests.test_lcs(helpers.longest_common_subsequence)"
   ]
  },
  {
   "cell_type": "markdown",
   "metadata": {},
   "source": [
    "The _time complexity_ of the `longest_common_subsequence` function is $O(n^{2})$ since the number of subproblems we go through are $m \\times n$ whereby $m,n$ are the lengths of the two strings.\n",
    "\n",
    "Its _space complexity_ is also, $O(n^{2})$ since we store the solutions of each subproblem is an $m \\times n$ matrix."
   ]
  },
  {
   "cell_type": "code",
   "execution_count": 2,
   "metadata": {},
   "outputs": [
    {
     "name": "stdout",
     "output_type": "stream",
     "text": [
      "      a     b     c     d     e     f     g\n",
      "a  52.0  40.0  41.0  48.0  39.0  38.0  45.0\n",
      "b  40.0  54.0  38.0  38.0  47.0  44.0  43.0\n",
      "c  41.0  38.0  47.0  39.0  36.0  36.0  39.0\n",
      "d  48.0  38.0  39.0  55.0  38.0  37.0  42.0\n",
      "e  39.0  47.0  36.0  38.0  60.0  39.0  40.0\n",
      "f  38.0  44.0  36.0  37.0  39.0  54.0  40.0\n",
      "g  45.0  43.0  39.0  42.0  40.0  40.0  50.0\n"
     ]
    }
   ],
   "source": [
    "# Let's save a matrix C containing the LCS of\n",
    "# each set string compared with each other\n",
    "C = helpers.generate_lcs_matrix(verbose=True)"
   ]
  },
  {
   "cell_type": "markdown",
   "metadata": {},
   "source": [
    "## Appendix\n",
    "\n",
    "### Appendix A: CS110 Dashboard\n",
    "\n",
    "![\"CS110 Dashboard\"](images/my_dashboard_apr14.png \"CS110 Dashboard\")"
   ]
  }
 ],
 "metadata": {
  "kernelspec": {
   "display_name": "Python 3.7.3 64-bit ('base': conda)",
   "language": "python",
   "name": "python37364bitbaseconda42bd8ed0a996409c86428e188cda6110"
  },
  "language_info": {
   "codemirror_mode": {
    "name": "ipython",
    "version": 3
   },
   "file_extension": ".py",
   "mimetype": "text/x-python",
   "name": "python",
   "nbconvert_exporter": "python",
   "pygments_lexer": "ipython3",
   "version": "3.7.3"
  },
  "varInspector": {
   "cols": {
    "lenName": 16,
    "lenType": 16,
    "lenVar": 40
   },
   "kernels_config": {
    "python": {
     "delete_cmd_postfix": "",
     "delete_cmd_prefix": "del ",
     "library": "var_list.py",
     "varRefreshCmd": "print(var_dic_list())"
    },
    "r": {
     "delete_cmd_postfix": ") ",
     "delete_cmd_prefix": "rm(",
     "library": "var_list.r",
     "varRefreshCmd": "cat(var_dic_list()) "
    }
   },
   "types_to_exclude": [
    "module",
    "function",
    "builtin_function_or_method",
    "instance",
    "_Feature"
   ],
   "window_display": false
  }
 },
 "nbformat": 4,
 "nbformat_minor": 4
}
