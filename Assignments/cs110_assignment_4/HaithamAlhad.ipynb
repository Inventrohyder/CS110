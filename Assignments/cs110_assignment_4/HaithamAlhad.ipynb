{
 "cells": [
  {
   "cell_type": "markdown",
   "metadata": {},
   "source": [
    "# Gene Mutation"
   ]
  },
  {
   "cell_type": "markdown",
   "metadata": {},
   "source": [
    "## Introduction\n",
    "\n",
    "**Gene mutations** are permanent alterations in a DNA sequence that makes up a _gene_, such that, it is different from that of its parent.\n",
    "\n",
    "> **Citation:** Genetics Home Reference. n.d. “What Is a Gene Mutation and How Do Mutations Occur?” Genetics Home Reference. https://ghr.nlm.nih.gov/primer/mutationsanddisorders/genemutation.\n",
    "\n",
    "In this assignment, we will be exploring this phenomenon in more detail as we develop a python program that is capable of being used by biotechnological companies in their genetic research projects.\n",
    "\n",
    "A _gene_ is the basic physical and functional unit of hereditary.  DNA bases make up gene strings. The bases can take a value from the set ${A, C, G, T}$. Mutations are relatively rare but there are tiny probabilities of _inserting_ a new character ($p_{i}$), _deleting_ and existing character($p_{d}$), or _changing_ to a new character randomly ($p_{c}$). \n",
    "\n",
    "If we have a starting _gene string_ and it carries out asexual reproduction that creates two child strings, there is a chance that any of the mutation processes might occur. The two children might also produce two other children each, and they might still have undergone mutation. As we can notice, this forms a binary genealogical tree.\n",
    "\n",
    "Our task involves building this tree if we are given the 7 strings. The example we will be working with is, `Set_Strings`:\n",
    "``` python\n",
    "('a', 'AGTTATGTGTCAGAGCAAAAGATTCCTCATCTAGCGGTCGCAAGTCATTGCC'),\n",
    "('b', 'AAGTTATTTGCTCACAGGGAACGAATCCAGCTCTGCGGTCGAGGCCACATTGCC'),\n",
    "('c', 'AGTTATTTTCAGAGAAATGATTCCTTCTCACCGGTCGAGCCAGTGCC'),\n",
    "('d', 'AGTTTATGTGTCAGAAGCAAAAGATTACTAATCTACGCGTCGCAAGGTCTATTCC'),\n",
    "('e', 'ACAGCTTATATAGCTCATAGGGAGCGAAATCCAGCCCCGCGGTGCGAGGCCCCTTGTCGC'),\n",
    "('f', 'AAGTATATGGCACGAGGGAACAGTATCAGCTCTTCGGATAAAGGCCACAGTGCC'),\n",
    "('g', 'AGTTATGTGTCACAGGCAAAAGATCCTTCTCTGCGGTCGAACCCATTGCC')\n",
    "```"
   ]
  },
  {
   "cell_type": "markdown",
   "metadata": {},
   "source": [
    "## Longest Common Subsequence\n",
    "\n",
    "Before, we look into the mutations. We need to compare two strings and find out the _longest common subsequence_ (LCS) of them. Such a number will be useful in finding how much a particular string resembles another.\n",
    "\n",
    "Using [#DynamicProgramming](https://seminar.minerva.kgi.edu/app/outcome-index/learning-outcomes/cs110-DynamicProgramming?course_id=989) is a better solution since there are _overlapping subproblems_ whereby we need to identify the LCS of each substring within string a in a substring within string b. Also, the problem has an _optimal substructure_ whereby there is an optimal LCS value within each breakdown. That means we can use solutions to the subproblems to solve the main problem."
   ]
  },
  {
   "cell_type": "code",
   "execution_count": 1,
   "metadata": {},
   "outputs": [
    {
     "name": "stdout",
     "output_type": "stream",
     "text": [
      "Tests Passed!\n"
     ]
    }
   ],
   "source": [
    "# Carrying out tests of our LCS function\n",
    "import helpers\n",
    "import problem_unittests\n",
    "\n",
    "problem_unittests.test_lcs(helpers.longest_common_subsequence)"
   ]
  },
  {
   "cell_type": "markdown",
   "metadata": {},
   "source": [
    "The _time complexity_ of the `longest_common_subsequence` function is $O(n^{2})$ since the number of subproblems we go through are $m \\times n$ whereby $m,n$ are the lengths of the two strings.\n",
    "\n",
    "Its _space complexity_ is also, $O(n^{2})$ since we store the solutions of each subproblem is an $m \\times n$ matrix."
   ]
  },
  {
   "cell_type": "code",
   "execution_count": 2,
   "metadata": {
    "scrolled": true
   },
   "outputs": [
    {
     "name": "stdout",
     "output_type": "stream",
     "text": [
      "      a     b     c     d     e     f     g\n",
      "a  52.0  40.0  41.0  48.0  39.0  38.0  45.0\n",
      "b  40.0  54.0  38.0  38.0  47.0  44.0  43.0\n",
      "c  41.0  38.0  47.0  39.0  36.0  36.0  39.0\n",
      "d  48.0  38.0  39.0  55.0  38.0  37.0  42.0\n",
      "e  39.0  47.0  36.0  38.0  60.0  39.0  40.0\n",
      "f  38.0  44.0  36.0  37.0  39.0  54.0  40.0\n",
      "g  45.0  43.0  39.0  42.0  40.0  40.0  50.0\n"
     ]
    }
   ],
   "source": [
    "# Let's save a matrix C containing the LCS of\n",
    "# each set string compared with each other\n",
    "C = helpers.generate_lcs_matrix(verbose=True)"
   ]
  },
  {
   "cell_type": "markdown",
   "metadata": {},
   "source": [
    "Local strategy\n",
    "---\n",
    "\n",
    "Let us first rank the values to in the matrix."
   ]
  },
  {
   "cell_type": "code",
   "execution_count": 3,
   "metadata": {},
   "outputs": [
    {
     "name": "stdout",
     "output_type": "stream",
     "text": [
      "     a    b    c    d    e    f    g\n",
      "a  0.0  4.0  3.0  1.0  5.0  6.0  2.0\n",
      "b  4.0  0.0  5.5  5.5  1.0  2.0  3.0\n",
      "c  1.0  4.0  0.0  2.5  5.5  5.5  2.5\n",
      "d  1.0  4.5  3.0  0.0  4.5  6.0  2.0\n",
      "e  3.5  1.0  6.0  5.0  0.0  3.5  2.0\n",
      "f  4.0  1.0  6.0  5.0  3.0  0.0  2.0\n",
      "g  1.0  2.0  6.0  3.0  4.5  4.5  0.0\n"
     ]
    }
   ],
   "source": [
    "R = helpers.generate_rank_matrix(C, verbose=True)"
   ]
  },
  {
   "cell_type": "markdown",
   "metadata": {},
   "source": [
    "Based on the above rankings, we can come up with a _local strategy_ that begins at any starting point, and points to the next two most related strings unless another string already points to it. If that is the case, the one with the closest relationship gets to keep it.\n",
    "\n",
    "Here is an example:\n",
    "\n",
    "![Local strategy](images/local_strategy.JPG \"Using a local strategy\")"
   ]
  },
  {
   "cell_type": "markdown",
   "metadata": {},
   "source": [
    "Global strategy\n",
    "---\n",
    "\n",
    "For the global strategy, we first need to find the relative lcs values of the different string pairs. Then we sum them up row by row to find the strings with the highest cumulative relative lcs. Such a string would be the earliest ancestor since it is related with all of the rest of the population."
   ]
  },
  {
   "cell_type": "code",
   "execution_count": 4,
   "metadata": {},
   "outputs": [
    {
     "name": "stdout",
     "output_type": "stream",
     "text": [
      "          a         b         c         d         e         f         g\n",
      "a  1.000000  0.769231  0.788462  0.923077  0.750000  0.730769  0.865385\n",
      "b  0.740741  1.000000  0.703704  0.703704  0.870370  0.814815  0.796296\n",
      "c  0.872340  0.808511  1.000000  0.829787  0.765957  0.765957  0.829787\n",
      "d  0.872727  0.690909  0.709091  1.000000  0.690909  0.672727  0.763636\n",
      "e  0.650000  0.783333  0.600000  0.633333  1.000000  0.650000  0.666667\n",
      "f  0.703704  0.814815  0.666667  0.685185  0.722222  1.000000  0.740741\n",
      "g  0.900000  0.860000  0.780000  0.840000  0.800000  0.800000  1.000000\n",
      "        Sum\n",
      "a  5.826923\n",
      "b  5.629630\n",
      "c  5.872340\n",
      "d  5.400000\n",
      "e  4.983333\n",
      "f  5.333333\n",
      "g  5.980000\n"
     ]
    }
   ],
   "source": [
    "M = helpers.generate_relative_lcs(C, verbose=True)\n",
    "sums = helpers.obtain_row_sums(M)"
   ]
  },
  {
   "cell_type": "markdown",
   "metadata": {},
   "source": [
    "Before, we move on to the next step and generate a heap that would form the binary tree of our genealogy, we need to sort the list so that we can ensure that our heap would always have the most related strings at the top of the tree."
   ]
  },
  {
   "cell_type": "code",
   "execution_count": 5,
   "metadata": {},
   "outputs": [
    {
     "data": {
      "text/plain": [
       "[('g', 5.9799999999999995),\n",
       " ('c', 5.872340425531914),\n",
       " ('a', 5.826923076923077),\n",
       " ('b', 5.62962962962963),\n",
       " ('d', 5.3999999999999995),\n",
       " ('f', 5.333333333333333),\n",
       " ('e', 4.983333333333333)]"
      ]
     },
     "execution_count": 5,
     "metadata": {},
     "output_type": "execute_result"
    }
   ],
   "source": [
    "sums_sorted = sorted(sums, key = lambda x: x[1], reverse=True)\n",
    "sums_sorted"
   ]
  },
  {
   "cell_type": "markdown",
   "metadata": {},
   "source": [
    "## Appendix\n",
    "\n",
    "### Appendix A: CS 110 Dashboard\n",
    "\n",
    "![\"CS 110 Dashboard\"](images/my_dashboard_apr29.png \"CS110 Dashboard\")"
   ]
  }
 ],
 "metadata": {
  "kernelspec": {
   "display_name": "Python 3.7.3 64-bit ('base': conda)",
   "language": "python",
   "name": "python37364bitbaseconda42bd8ed0a996409c86428e188cda6110"
  },
  "language_info": {
   "codemirror_mode": {
    "name": "ipython",
    "version": 3
   },
   "file_extension": ".py",
   "mimetype": "text/x-python",
   "name": "python",
   "nbconvert_exporter": "python",
   "pygments_lexer": "ipython3",
   "version": "3.7.3"
  },
  "varInspector": {
   "cols": {
    "lenName": 16,
    "lenType": 16,
    "lenVar": 40
   },
   "kernels_config": {
    "python": {
     "delete_cmd_postfix": "",
     "delete_cmd_prefix": "del ",
     "library": "var_list.py",
     "varRefreshCmd": "print(var_dic_list())"
    },
    "r": {
     "delete_cmd_postfix": ") ",
     "delete_cmd_prefix": "rm(",
     "library": "var_list.r",
     "varRefreshCmd": "cat(var_dic_list()) "
    }
   },
   "types_to_exclude": [
    "module",
    "function",
    "builtin_function_or_method",
    "instance",
    "_Feature"
   ],
   "window_display": false
  }
 },
 "nbformat": 4,
 "nbformat_minor": 4
}
