{
 "cells": [
  {
   "cell_type": "markdown",
   "metadata": {},
   "source": [
    "# Gene Mutation"
   ]
  },
  {
   "cell_type": "markdown",
   "metadata": {},
   "source": [
    "## Introduction\n",
    "\n",
    "**Gene mutations** are permanent alterations in a DNA sequence that makes up a _gene_, such that, it is different from that of its parent.\n",
    "\n",
    "> **Citation:** Genetics Home Reference. n.d. “What Is a Gene Mutation and How Do Mutations Occur?” Genetics Home Reference. https://ghr.nlm.nih.gov/primer/mutationsanddisorders/genemutation.\n",
    "\n",
    "In this assignment, we will be exploring this phenomenon in more detail as we develop a python program that is capable of being used by biotechnological companies in their genetic research projects.\n",
    "\n",
    "A _gene_ is the basic physical and functional unit of hereditary.  DNA bases make up gene strings. The bases can take a value from the set ${A, C, G, T}$. Mutations are relatively rare but there are tiny probabilities of _inserting_ a new character ($p_{i}$), _deleting_ and existing character($p_{d}$), or _changing_ to a new character randomly ($p_{c}$). \n",
    "\n",
    "If we have a starting _gene string_ and it carries out asexual reproduction that creates two child strings, there is a chance that any of the mutation processes might occur. The two children might also produce two other children each, and they might still have undergone mutation. As we can notice, this forms a binary genealogical tree.\n",
    "\n",
    "Our task involves building this tree if we are given the 7 strings. The example we will be working with is, `Set_Strings`:\n",
    "``` python\n",
    "('a', 'AGTTATGTGTCAGAGCAAAAGATTCCTCATCTAGCGGTCGCAAGTCATTGCC'),\n",
    "('b', 'AAGTTATTTGCTCACAGGGAACGAATCCAGCTCTGCGGTCGAGGCCACATTGCC'),\n",
    "('c', 'AGTTATTTTCAGAGAAATGATTCCTTCTCACCGGTCGAGCCAGTGCC'),\n",
    "('d', 'AGTTTATGTGTCAGAAGCAAAAGATTACTAATCTACGCGTCGCAAGGTCTATTCC'),\n",
    "('e', 'ACAGCTTATATAGCTCATAGGGAGCGAAATCCAGCCCCGCGGTGCGAGGCCCCTTGTCGC'),\n",
    "('f', 'AAGTATATGGCACGAGGGAACAGTATCAGCTCTTCGGATAAAGGCCACAGTGCC'),\n",
    "('g', 'AGTTATGTGTCACAGGCAAAAGATCCTTCTCTGCGGTCGAACCCATTGCC')\n",
    "```"
   ]
  }
 ],
 "metadata": {
  "kernelspec": {
   "display_name": "Python 3.7.3 64-bit ('base': conda)",
   "language": "python",
   "name": "python37364bitbaseconda42bd8ed0a996409c86428e188cda6110"
  },
  "language_info": {
   "codemirror_mode": {
    "name": "ipython",
    "version": 3
   },
   "file_extension": ".py",
   "mimetype": "text/x-python",
   "name": "python",
   "nbconvert_exporter": "python",
   "pygments_lexer": "ipython3",
   "version": "3.7.3"
  }
 },
 "nbformat": 4,
 "nbformat_minor": 4
}
