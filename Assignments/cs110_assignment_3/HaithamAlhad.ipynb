{
 "cells": [
  {
   "cell_type": "markdown",
   "metadata": {
    "deletable": false,
    "editable": false,
    "nbgrader": {
     "checksum": "e5d2038e11c57d2abd9d2c24d9421273",
     "grade": false,
     "grade_id": "cell-26967b3698cd6565",
     "locked": true,
     "schema_version": 1,
     "solution": false
    }
   },
   "source": [
    "\n",
    "# Indexing Techniques and Data Structures.\n",
    "\n",
    "After learning about hashing functions and techniques, we will be exploring an implementation of such techniques called bloom filters. Firstly we will briefly discuss the [standard bloom filter](https://en.wikipedia.org/wiki/Bloom_filter), then improve upon it using [counting bloom filters](https://en.wikipedia.org/wiki/Counting_Bloom_filter).\n",
    "\n",
    "## Standard Bloom filters\n",
    "\n",
    "According to [Wikipedia](https://www.wikipedia.org) a [bloom filter](https://en.wikipedia.org/wiki/Bloom_filter) is \"a space-efficient probabilistic data structure\" conceived by [Burton Howard Bloom](https://en.wikipedia.org/wiki/Burton_Howard_Bloom) in 1970 that \"tests whether an element is a member of a set\". ([Bloom Filters - Geeks for Geeks][geeksforgeeks]\n",
    "\n",
    "James Graham, an engineer at Medium, mentions that they are a quick way of \"answering a YES/NO question\". Although  in programming, we always have to work with _trade-offs_. They will \"very rarely say YES when the answer is NO, but they will never say NO when the answer is actually YES\".([What are Bloom filters?][medium]). Since they are probabilistic the more items we add into a bloom filter the higher the chance of getting a _false positive_.\n",
    "\n",
    "Unlike a normal hash table it is an array of $m$ bits, initiated with all zeros, and requires $k$ hash functions to insert an element. The hash functions reveal the slots that are flipped from 0 to 1 during insertion of an element.\n",
    "\n",
    "![Empty bloom filter](./images/empty_bloom.png \"An empty bloom filter\")\n",
    "\n",
    "![Inserting elements into a bloom filter](./images/insert_bloom.png \"Inserting elements into a bloom filter\")\n",
    "\n",
    "[medium]: https://blog.medium.com/what-are-bloom-filters-1ec2a50c68ff\n",
    "\n",
    "[geeksforgeeks]: https://www.geeksforgeeks.org/bloom-filters-introduction-and-python-implementation/)\n"
   ]
  },
  {
   "cell_type": "markdown",
   "metadata": {},
   "source": [
    "## Appendix\n",
    "\n",
    "### Appendix 1 - Dashboard screenshot\n",
    "\n",
    "![Dashboard Screenshot](./images/my_dashboard_feb24.png \"Haitham Alhad's CS110 Dashboard screenshot taken on February 24th 2020\")"
   ]
  }
 ],
 "metadata": {
  "kernelspec": {
   "display_name": "Python 3",
   "language": "python",
   "name": "python3"
  },
  "language_info": {
   "codemirror_mode": {
    "name": "ipython",
    "version": 3
   },
   "file_extension": ".py",
   "mimetype": "text/x-python",
   "name": "python",
   "nbconvert_exporter": "python",
   "pygments_lexer": "ipython3",
   "version": "3.7.3-final"
  }
 },
 "nbformat": 4,
 "nbformat_minor": 2
}