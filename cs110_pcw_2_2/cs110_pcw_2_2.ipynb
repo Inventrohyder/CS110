{
  "nbformat": 4,
  "nbformat_minor": 0,
  "metadata": {
    "kernelspec": {
      "display_name": "Python 3",
      "language": "python",
      "name": "python3"
    },
    "language_info": {
      "codemirror_mode": {
        "name": "ipython",
        "version": 3
      },
      "file_extension": ".py",
      "mimetype": "text/x-python",
      "name": "python",
      "nbconvert_exporter": "python",
      "pygments_lexer": "ipython3",
      "version": "3.7.4-final"
    },
    "colab": {
      "name": "cs110_pcw_2_2.ipynb",
      "provenance": [],
      "collapsed_sections": []
    }
  },
  "cells": [
    {
      "cell_type": "markdown",
      "metadata": {
        "colab_type": "text",
        "id": "z4ZSjDlCNTwB"
      },
      "source": [
        "Before you turn this problem in, make sure everything runs as expected. First, **restart the kernel** (in the menubar, select Kernel$\\rightarrow$Restart) and then **run all cells** (in the menubar, select Cell$\\rightarrow$Run All).\n",
        "\n",
        "Make sure you fill in any place that says `YOUR CODE HERE` or \"YOUR ANSWER HERE\", as well as your name and collaborators below:"
      ]
    },
    {
      "cell_type": "code",
      "execution_count": 0,
      "metadata": {
        "colab": {},
        "colab_type": "code",
        "id": "2y702_tLNTwE"
      },
      "outputs": [],
      "source": [
        "NAME = \"Haitham Alhad Hyder\"\n",
        "COLLABORATORS = \"\""
      ]
    },
    {
      "cell_type": "markdown",
      "metadata": {
        "colab_type": "text",
        "id": "wxY0Tdf-NTwL"
      },
      "source": [
        "---"
      ]
    },
    {
      "cell_type": "markdown",
      "metadata": {
        "colab_type": "text",
        "deletable": false,
        "editable": false,
        "id": "uoKhBsmBNTwP",
        "nbgrader": {
          "checksum": "c650e4f3477fb1b0666f4f7d1d7cfd38",
          "grade": false,
          "grade_id": "cell-a415b724e36aa852",
          "locked": true,
          "schema_version": 1,
          "solution": false
        }
      },
      "source": [
        "# CS110 Pre-class Work 2.2\n",
        "\n",
        "## Question 1 (Exercise 3.1-3 of Cormen, et al. )\n",
        "Explain why the statement, \"The running time of algorithm A is at least $O(n^2)$,\" is meaningless.\n"
      ]
    },
    {
      "cell_type": "markdown",
      "metadata": {
        "colab_type": "text",
        "deletable": false,
        "id": "SKV0Vbo2NTwQ",
        "nbgrader": {
          "checksum": "d6f28cb6ab1a8f547f022f1932f609f9",
          "grade": true,
          "grade_id": "cell-437d61c1420d4f99",
          "locked": false,
          "points": 0,
          "schema_version": 1,
          "solution": true
        }
      },
      "source": [
        "The problem in this statement is when it mentions _\"at least\"_ because big O is already implying the upper limit or worst case scenario of the algorithm. "
      ]
    },
    {
      "cell_type": "markdown",
      "metadata": {
        "colab_type": "text",
        "deletable": false,
        "editable": false,
        "id": "pTJGdh_rNTwR",
        "nbgrader": {
          "checksum": "def6c9c9f606feea2e7a711e51c65304",
          "grade": false,
          "grade_id": "cell-7d82282e0c8a03e3",
          "locked": true,
          "schema_version": 1,
          "solution": false
        }
      },
      "source": [
        "## Question 2 (Exercise 3.1-4 of Cormen, et al. )\n",
        "\n",
        "Is $2^{n+1}=O(2^n)$? Is $2^{2n}=O(2^n)$?"
      ]
    },
    {
      "cell_type": "markdown",
      "metadata": {
        "colab_type": "text",
        "deletable": false,
        "id": "puFE9kYFNTwT",
        "nbgrader": {
          "checksum": "9ea64ba2361ca4a6d09f468ddf82f39b",
          "grade": true,
          "grade_id": "cell-6a0c4ee19dadfddf",
          "locked": false,
          "points": 0,
          "schema_version": 1,
          "solution": true
        }
      },
      "source": [
        "To answer this we can just replace the $n$ with a very number $100$ and see what is the answer we get when we compare the 2 sides. If it is not a very big difference then they are similar, but if it is a significant difference then they are different.\n",
        "\n",
        "The significance is measured by the number of digits each produces. If they are similar number of digits then they have similar magnitudes."
      ]
    },
    {
      "cell_type": "code",
      "execution_count": 0,
      "metadata": {
        "colab": {
          "base_uri": "https://localhost:8080/",
          "height": 51
        },
        "colab_type": "code",
        "id": "dlYstj0VGJ1f",
        "outputId": "c823e896-e1c9-4abb-f31f-9e8efb40dbc3"
      },
      "outputs": [
        {
          "name": "stdout",
          "output_type": "stream",
          "text": [
            "2535301200456458802993406410752\n",
            "1267650600228229401496703205376\n"
          ]
        }
      ],
      "source": [
        "print(2**(100 + 1))\n",
        "print(2**(100))"
      ]
    },
    {
      "cell_type": "markdown",
      "metadata": {
        "colab_type": "text",
        "id": "fTzwytGHHhZT"
      },
      "source": [
        "$\\therefore 2^{n+1}=O(2^n)$ is **correct**."
      ]
    },
    {
      "cell_type": "code",
      "execution_count": 0,
      "metadata": {
        "colab": {
          "base_uri": "https://localhost:8080/",
          "height": 51
        },
        "colab_type": "code",
        "id": "5XVicraoGSyw",
        "outputId": "f54a3ccb-9037-47ac-ef5c-8c42c221c646"
      },
      "outputs": [
        {
          "name": "stdout",
          "output_type": "stream",
          "text": [
            "1606938044258990275541962092341162602522202993782792835301376\n",
            "1267650600228229401496703205376\n"
          ]
        }
      ],
      "source": [
        "print(2**(2*100))\n",
        "print(2**(100))"
      ]
    },
    {
      "cell_type": "markdown",
      "metadata": {
        "colab_type": "text",
        "id": "EMJ7-2fKHtwo"
      },
      "source": [
        "$\\therefore 2^{2n}=O(2^n)$ is **incorrect**."
      ]
    },
    {
      "cell_type": "markdown",
      "metadata": {
        "colab_type": "text",
        "deletable": false,
        "editable": false,
        "id": "PtGG4lzgNTwV",
        "nbgrader": {
          "checksum": "b7ea4393551187246e7a7a7399d38250",
          "grade": false,
          "grade_id": "cell-e4fe88238c9e912a",
          "locked": true,
          "schema_version": 1,
          "solution": false
        }
      },
      "source": [
        "## Question 3.\n",
        "Write a function in Python that solves the maximum-subarray problem using a brute-force approach. Your Python function must:\n",
        "* Take as Input an array/list  of numbers\n",
        "* Produce the following Output: \n",
        "    * the start and end indices of the subarray containing the maximum sum.\n",
        "    * value of the maximum subarray (float)\n"
      ]
    },
    {
      "cell_type": "code",
      "execution_count": 5,
      "metadata": {},
      "outputs": [],
      "source": [
        "def bruteforce_max_subarray(A):\n",
        "    \"\"\"Implements brute-force maximum subarray finding.\n",
        "    \n",
        "    Inputs:\n",
        "    - A: a NON-EMPTY list of floats\n",
        "    \n",
        "    Outputs: A tuple of\n",
        "    - the start index of the max subarray\n",
        "    - the end index of the max subarray\n",
        "    - the value of the maximum subarray\n",
        "    \"\"\"\n",
        "    max_start = 0\n",
        "    max_end = 0\n",
        "    max_sum = -float('inf')\n",
        "\n",
        "    for start in range(len(A)):\n",
        "      for end in range(len(A)):\n",
        "\n",
        "        sum = 0\n",
        "        for i in range(start, end+1):\n",
        "          sum += A[i]\n",
        "        \n",
        "        if max_sum < sum:\n",
        "          max_sum = sum\n",
        "          max_start = start\n",
        "          max_end = end\n",
        "        \n",
        "    return max_start, max_end, max_sum\n"
      ]
    },
    {
      "cell_type": "code",
      "execution_count": 6,
      "metadata": {},
      "outputs": [],
      "source": [
        "assert(bruteforce_max_subarray([1]) == (0, 0, 1))\n",
        "assert(bruteforce_max_subarray([-199]) == (0, 0, -199))"
      ]
    },
    {
      "cell_type": "code",
      "execution_count": 7,
      "metadata": {},
      "outputs": [],
      "source": [
        "assert(bruteforce_max_subarray([-2,1,-1,2,-5]) == (1, 3, 2))\n",
        "assert(bruteforce_max_subarray([-2, -5, 6, -2, -3, 1, 5, -6]) == (2, 6, 7))"
      ]
    },
    {
      "cell_type": "markdown",
      "metadata": {
        "colab_type": "text",
        "deletable": false,
        "editable": false,
        "id": "9ufqDVkaNTwb",
        "nbgrader": {
          "checksum": "8625e044853f9c85838ca9f6ca4db9c4",
          "grade": false,
          "grade_id": "cell-ba342b15913cb4d3",
          "locked": true,
          "schema_version": 1,
          "solution": false
        }
      },
      "source": [
        "## Question 4. \n",
        "Test your Python maximum-subarray function using the following input list (from Figure 4.3 of Cormen et al.):  \n",
        "`A = [13, -3, -25, 20, -3, -16, -23, 18, 20, -7, 12, -5, -22, 15, -4, 7] `\n",
        "\n",
        "If your Python implementation is correct, your code must return: \n",
        "* 43 - which is the answer to the maximum subarray problem, and \n",
        "* <7, 10> -the start and the end indices of the max subarray. \n",
        "\n"
      ]
    },
    {
      "cell_type": "code",
      "execution_count": 8,
      "metadata": {},
      "outputs": [
        {
          "name": "stdout",
          "output_type": "stream",
          "text": "(7, 10, 43)\n"
        }
      ],
      "source": [
        "A = [13, -3, -25, 20, -3, -16, -23, 18, 20, -7, 12, -5, -22, 15, -4, 7]\n",
        "output = bruteforce_max_subarray(A)\n",
        "print(output)\n",
        "assert(output == (7, 10, 43))"
      ]
    },
    {
      "cell_type": "markdown",
      "metadata": {
        "colab_type": "text",
        "deletable": false,
        "editable": false,
        "id": "bApcycapNTwd",
        "nbgrader": {
          "checksum": "e99f275368a5231d3692d72e62ad372d",
          "grade": false,
          "grade_id": "cell-345f6f0bc7b4e001",
          "locked": true,
          "schema_version": 1,
          "solution": false
        }
      },
      "source": [
        "## Question 5. Asymptotic notation. \n",
        "Complete the following table using the asymptotic notation that best describes the problem. For example, if both $O(n^3)$ and $O(n)$ are possible for an algorithm, the answer is $O(n)$ because the function $f(n) = O(n)$ provides a tighter and more accurate fit; if both $O(n)$ and $\\Theta(n)$ are possible, the correct answer is $\\Theta(n)$ because $\\Theta(n)$ provides both information about the upper and lower bound, thus it is more accurate than $O(n)$.\n",
        "\n",
        "You should copy the following table and paste and edit it in the cell below. \n",
        "\n",
        "Algorithm | Big Oh ($O$) | Big Theta ($\\Theta$)\n",
        "--- | --- | ---\n",
        "Insertion sort |  |\n",
        "Selection sort |  |\n",
        "Bubble sort |  | \n",
        "Finding maximum subarray |  |"
      ]
    },
    {
      "cell_type": "markdown",
      "metadata": {
        "colab_type": "text",
        "deletable": false,
        "id": "LyP3FM9TNTwd",
        "nbgrader": {
          "checksum": "6a2e8546bb697eda40015086f8405788",
          "grade": true,
          "grade_id": "cell-247c51df276b622e",
          "locked": false,
          "points": 0,
          "schema_version": 1,
          "solution": true
        }
      },
      "source": [
        "YOUR ANSWER HERE"
      ]
    },
    {
      "cell_type": "markdown",
      "metadata": {
        "colab_type": "text",
        "deletable": false,
        "editable": false,
        "id": "4oWWXAyfNTwd",
        "nbgrader": {
          "checksum": "033981aff08a9064f5553137db1a4841",
          "grade": false,
          "grade_id": "cell-9e53f43b4530cd79",
          "locked": true,
          "schema_version": 1,
          "solution": false
        }
      },
      "source": [
        "## [Optional] Question 6. \n",
        "How can you change this code to make it find the minimum-subarray?"
      ]
    },
    {
      "cell_type": "code",
      "execution_count": 13,
      "metadata": {},
      "outputs": [],
      "source": [
        "def bruteforce_min_subarray(A):\n",
        "    \"\"\"Implements brute-force maximum subarray finding.\n",
        "    \n",
        "    Inputs:\n",
        "    - A: a NON-EMPTY list of floats\n",
        "    \n",
        "    Outputs: A tuple of\n",
        "    - the start index of the max subarray\n",
        "    - the end index of the max subarray\n",
        "    - the value of the maximum subarray\n",
        "    \"\"\"\n",
        "    min_start = 0\n",
        "    min_end = 0\n",
        "    min_sum = float('inf')\n",
        "\n",
        "    for start in range(len(A)):\n",
        "      for end in range(start, len(A)):\n",
        "\n",
        "        sum = 0\n",
        "        for i in range(start, end+1):\n",
        "          sum += A[i]\n",
        "        \n",
        "        if sum < min_sum:\n",
        "          min_sum = sum\n",
        "          min_start = start\n",
        "          min_end = end\n",
        "        \n",
        "    return min_start, min_end, min_sum"
      ]
    },
    {
      "cell_type": "code",
      "execution_count": 15,
      "metadata": {},
      "outputs": [],
      "source": [
        "assert(bruteforce_min_subarray([1]*10)[0] == bruteforce_min_subarray([1]*10)[1])\n",
        "assert(bruteforce_min_subarray([1]*10)[2] == 1)"
      ]
    },
    {
      "cell_type": "code",
      "execution_count": null,
      "metadata": {},
      "outputs": [],
      "source": []
    }
  ]
}