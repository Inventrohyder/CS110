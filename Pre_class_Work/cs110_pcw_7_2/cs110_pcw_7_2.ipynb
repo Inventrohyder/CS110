{
 "cells": [
  {
   "cell_type": "markdown",
   "metadata": {},
   "source": [
    "Before you turn this problem in, make sure everything runs as expected. First, **restart the kernel** (in the menubar, select Kernel$\\rightarrow$Restart) and then **run all cells** (in the menubar, select Cell$\\rightarrow$Run All).\n",
    "\n",
    "Make sure you fill in any place that says `YOUR CODE HERE` or \"YOUR ANSWER HERE\", as well as your name and collaborators below:"
   ]
  },
  {
   "cell_type": "code",
   "execution_count": 15,
   "metadata": {},
   "outputs": [],
   "source": [
    "NAME = \"Haitham Alhad Hyder\"\n",
    "COLLABORATORS = \"\""
   ]
  },
  {
   "cell_type": "markdown",
   "metadata": {},
   "source": [
    "---"
   ]
  },
  {
   "cell_type": "markdown",
   "metadata": {
    "deletable": false,
    "editable": false,
    "nbgrader": {
     "checksum": "2843e94073cad72d7107eb55b3f5d153",
     "grade": false,
     "grade_id": "cell-5b237cc13279b029",
     "locked": true,
     "schema_version": 1,
     "solution": false
    }
   },
   "source": [
    "# CS110 Pre-class Work 7.2\n",
    "\n",
    "## Part A. Direct Address Tables\n",
    "As the first step in setting up a crossword solving algorithm you need to create 2 direct address tables, one to store all the “up” answers-whether correct or not-and one to store all the “across” answers. Write python code to create a direct address table that allows you to:\n",
    "\n",
    "1. initialize N empty guesses\n",
    "2. set a guess for the i-th entry\n",
    "3. clear an incorrect guess for the i-th entry\n"
   ]
  },
  {
   "cell_type": "code",
   "execution_count": 16,
   "metadata": {},
   "outputs": [],
   "source": [
    "import numpy as np\n",
    "\n",
    "N: int = 100\n",
    "guesses: np.ndarray = np.zeros(N)"
   ]
  },
  {
   "cell_type": "markdown",
   "metadata": {
    "deletable": false,
    "editable": false,
    "nbgrader": {
     "checksum": "cdb562114e50f9ce1c97be3536b59efa",
     "grade": false,
     "grade_id": "cell-b27891b3ff16f730",
     "locked": true,
     "schema_version": 1,
     "solution": false
    }
   },
   "source": [
    "## Part B. Social Security\n",
    "\n",
    "Could we use a direct address table to store a country's entire set of social security numbers (aka id numbers)? Why or why not?\n"
   ]
  },
  {
   "cell_type": "markdown",
   "metadata": {
    "deletable": false,
    "nbgrader": {
     "checksum": "7b193e66cbea5bd9dac131a3d6adfefa",
     "grade": true,
     "grade_id": "cell-e751647d9af78c11",
     "locked": false,
     "points": 0,
     "schema_version": 1,
     "solution": true
    }
   },
   "source": [
    "A country can have a billion citizens and each of the id numbers or social security numbers have to be different from each other. \n",
    "\n",
    "Yes, we can store them in a direct access table so that each index is the id number itself. Since they are numbers and would be based on a billion humans."
   ]
  },
  {
   "cell_type": "markdown",
   "metadata": {
    "deletable": false,
    "editable": false,
    "nbgrader": {
     "checksum": "35f74a7f882cabb36df7ee2c43ee51db",
     "grade": false,
     "grade_id": "cell-cba2028918eea1fd",
     "locked": true,
     "schema_version": 1,
     "solution": false
    }
   },
   "source": [
    "## Part C. Chained Hash-table\n",
    "\n",
    "## Question 1.\n",
    "\n",
    "Using the code in the cell below, complete the missing sections of code. You should copy and paste the code in an additional cell and fill in the code there."
   ]
  },
  {
   "cell_type": "code",
   "execution_count": 17,
   "metadata": {},
   "outputs": [],
   "source": [
    "import random\n",
    "import string\n",
    "\n",
    "\n",
    "def randomword(length):\n",
    "    return ''.join(random.choice(string.ascii_lowercase) for i in range(length))\n",
    "\n",
    "\n",
    "def empty_hash_table(N):\n",
    "    return [[] for n in range(N)]\n",
    "\n",
    "\n",
    "def add_to_hash_table(hash_table, item, hash_function):\n",
    "    N = len(hash_table)\n",
    "    # Your code here\n",
    "    return hash_table\n",
    "\n",
    "\n",
    "def contains(hash_table, item, hash_function):\n",
    "    N = len(hash_table)\n",
    "    # Your code here\n",
    "    # return true if the item has already been stored in the hash_table\n",
    "\n",
    "\n",
    "def remove(hash_table, item, hash_function):\n",
    "    if not contains(hash_table, item, hash_function):\n",
    "        raise ValueError()\n",
    "    # Your code here\n",
    "    return hash_table\n",
    "\n",
    "\n",
    "def hash_str1(string):\n",
    "    ans = 0\n",
    "    for chr in string:\n",
    "        ans += ord(chr)\n",
    "    return ans\n",
    "\n",
    "def hash_str2(string):\n",
    "    ans=int(ord(string[0]))\n",
    "    for ix in range(1, len(string)):\n",
    "        ans = ans ^ ord(string[ix]) \n",
    "    return int(bin(ans).split('b')[1])\n",
    "\n",
    "\n",
    "def hash_str3(string):\n",
    "    ans = 0\n",
    "    for chr in string:\n",
    "        ans = ans * 128 + ord(chr)\n",
    "    return ans\n",
    "\n",
    "\n",
    "def hash_str4(string):\n",
    "    random.seed(ord(string[0]))\n",
    "    return random.getrandbits(32)"
   ]
  },
  {
   "cell_type": "code",
   "execution_count": 18,
   "metadata": {},
   "outputs": [],
   "source": [
    "import random\n",
    "import string\n",
    "from typing import List, Callable\n",
    "\n",
    "\n",
    "def randomword(length: int) -> str:\n",
    "    return ''.join(random.choice(string.ascii_lowercase) for i in range(length))\n",
    "\n",
    "\n",
    "def empty_hash_table(N: int) -> List:\n",
    "    return [[] for n in range(N)]\n",
    "\n",
    "\n",
    "def add_to_hash_table(hash_table: List, item: str, hash_function: Callable[[str], int]) -> List:\n",
    "    N = len(hash_table)\n",
    "    index: int = hash_function(item)\n",
    "    if index > N:\n",
    "        index = index % N\n",
    "    hash_table[index].append(item)\n",
    "    return hash_table\n",
    "\n",
    "\n",
    "def contains(hash_table: List, item: str, hash_function: Callable[[str], int]) -> bool:\n",
    "    N = len(hash_table)\n",
    "    index: int = hash_function(item)\n",
    "    if index > N:\n",
    "        index = index % N\n",
    "    for comparison in hash_table[index]:\n",
    "        if comparison == item:\n",
    "            return True\n",
    "    return False\n",
    "\n",
    "\n",
    "def remove(hash_table: List, item: str, hash_function: Callable[[str], int]) -> List:\n",
    "    if not contains(hash_table, item, hash_function):\n",
    "        raise ValueError()\n",
    "    index = hash_function(item)\n",
    "    hash_table[index].remove(item)\n",
    "    return hash_table\n",
    "\n",
    "\n",
    "def hash_str1(string: str) -> int:\n",
    "    ans = 0\n",
    "    for chr in string:\n",
    "        ans += ord(chr)\n",
    "    return ans\n",
    "\n",
    "def hash_str2(string: str) -> int:\n",
    "    ans=int(ord(string[0]))\n",
    "    for ix in range(1, len(string)):\n",
    "        ans = ans ^ ord(string[ix]) \n",
    "    return int(bin(ans).split('b')[1])\n",
    "\n",
    "\n",
    "def hash_str3(string: str) -> int:\n",
    "    ans = 0\n",
    "    for chr in string:\n",
    "        ans = ans * 128 + ord(chr)\n",
    "    return ans\n",
    "\n",
    "\n",
    "def hash_str4(string: str) -> int:\n",
    "    random.seed(ord(string[0]))\n",
    "    return random.getrandbits(32)"
   ]
  },
  {
   "cell_type": "markdown",
   "metadata": {
    "deletable": false,
    "editable": false,
    "nbgrader": {
     "checksum": "d323c68243f6d1fe79cbf5ad01ee85ae",
     "grade": false,
     "grade_id": "cell-66fb150dd2e509a7",
     "locked": true,
     "schema_version": 1,
     "solution": false
    }
   },
   "source": [
    "## Question 2.\n",
    "Using the code, create 100,000 words of 10 characters each.\n"
   ]
  },
  {
   "cell_type": "code",
   "execution_count": 19,
   "metadata": {},
   "outputs": [],
   "source": [
    "words: List = [randomword(10) for word in range(100000)]"
   ]
  },
  {
   "cell_type": "markdown",
   "metadata": {
    "deletable": false,
    "editable": false,
    "nbgrader": {
     "checksum": "190e7fdc00fc311f5ff32a390fff1ca4",
     "grade": false,
     "grade_id": "cell-2fbadca52cec7230",
     "locked": true,
     "schema_version": 1,
     "solution": false
    }
   },
   "source": [
    "## Question 3.\n",
    "\n",
    "Create four chained hash-tables with 5000 slots."
   ]
  },
  {
   "cell_type": "code",
   "execution_count": 20,
   "metadata": {},
   "outputs": [],
   "source": [
    "hash_table_1 = empty_hash_table(5000)\n",
    "hash_table_2 = empty_hash_table(5000)\n",
    "hash_table_3 = empty_hash_table(5000)\n",
    "hash_table_4 = empty_hash_table(5000)"
   ]
  },
  {
   "cell_type": "markdown",
   "metadata": {
    "deletable": false,
    "editable": false,
    "nbgrader": {
     "checksum": "c3d147917ae237a6dc75eddab48dbaa6",
     "grade": false,
     "grade_id": "cell-cc2e6d00330e691e",
     "locked": true,
     "schema_version": 1,
     "solution": false
    }
   },
   "source": [
    "## Question 4.\n",
    "\n",
    "Store all the words in each chained hash table using each of the different hash functions."
   ]
  },
  {
   "cell_type": "code",
   "execution_count": 21,
   "metadata": {},
   "outputs": [],
   "source": [
    "for word in words:\n",
    "    add_to_hash_table(hash_table_1, word, hash_str1)\n",
    "    add_to_hash_table(hash_table_2, word, hash_str2)\n",
    "    add_to_hash_table(hash_table_3, word, hash_str3)\n",
    "    add_to_hash_table(hash_table_4, word, hash_str4)"
   ]
  },
  {
   "cell_type": "markdown",
   "metadata": {
    "deletable": false,
    "editable": false,
    "nbgrader": {
     "checksum": "858437d142a66b825fb0bebdb1c4d9fe",
     "grade": false,
     "grade_id": "cell-da2c8b42618fbde4",
     "locked": true,
     "schema_version": 1,
     "solution": false
    }
   },
   "source": [
    "## Question 5.\n",
    "\n",
    "Measure the number of collisions for each hash function."
   ]
  },
  {
   "cell_type": "code",
   "execution_count": 22,
   "metadata": {},
   "outputs": [],
   "source": [
    "def count_collisions(hash_table: List) -> int:\n",
    "    \"\"\"\n",
    "    Counts the number of collisions contained within a hash table\n",
    "\n",
    "    :param hash_table:\n",
    "        The list containing hashed values\n",
    "\n",
    "    :returns the number of collisions stored\n",
    "    \"\"\"\n",
    "    # To identify the collisions we need to loop through each list\n",
    "    # within the table\n",
    "    # If the list contains more than 2 values we count add the length of it\n",
    "    # to the total number of collisions we have found\n",
    "    collisions: int = 0\n",
    "    for lst in hash_table:\n",
    "        if len(lst) > 1:\n",
    "            collisions += len(lst)\n",
    "    return collisions"
   ]
  },
  {
   "cell_type": "code",
   "execution_count": 23,
   "metadata": {},
   "outputs": [
    {
     "name": "stdout",
     "output_type": "stream",
     "text": "Using hash_str1: 99992\nUsing hash_str2: 100000\nUsing hash_str3: 100000\nUsing hash_str4: 100000\n"
    }
   ],
   "source": [
    "print(\"Using hash_str1:\", count_collisions(hash_table_1))\n",
    "print(\"Using hash_str2:\", count_collisions(hash_table_2))\n",
    "print(\"Using hash_str3:\", count_collisions(hash_table_3))\n",
    "print(\"Using hash_str4:\", count_collisions(hash_table_4))"
   ]
  },
  {
   "cell_type": "markdown",
   "metadata": {
    "deletable": false,
    "editable": false,
    "nbgrader": {
     "checksum": "ef47cabb10897284ca375490003e6b3d",
     "grade": false,
     "grade_id": "cell-435ba1cfb2d80447",
     "locked": true,
     "schema_version": 1,
     "solution": false
    }
   },
   "source": [
    "## Question 6.\n",
    "\n",
    "For each of the hash functions, how many elements are in a bucket on average (if it is not empty)?\n"
   ]
  },
  {
   "cell_type": "code",
   "execution_count": 24,
   "metadata": {},
   "outputs": [],
   "source": [
    "def get_average(hash_table: List) -> float:\n",
    "    \"\"\"\n",
    "    Counts the average number of items per non-empty bucket contained within a hash table\n",
    "\n",
    "    :param hash_table:\n",
    "        The list containing hashed values\n",
    "\n",
    "    :returns the average number of items per non-empty bucket\n",
    "    \"\"\"\n",
    "    # To identify the non-empty buckets we need to loop through each list\n",
    "    # within the table\n",
    "    # If the list contains at least 1 value we count that bucket and the items withing it\n",
    "\n",
    "    buckets: int = 0\n",
    "    total_items: int = 0\n",
    "    for lst in hash_table:\n",
    "        if len(lst) > 0:\n",
    "            buckets += 1\n",
    "            total_items += len(lst)\n",
    "    return total_items/buckets"
   ]
  },
  {
   "cell_type": "code",
   "execution_count": 25,
   "metadata": {},
   "outputs": [
    {
     "name": "stdout",
     "output_type": "stream",
     "text": "Using hash_str1: 564.9717514124294\nUsing hash_str2: 6250.0\nUsing hash_str3: 20.0\nUsing hash_str4: 3846.153846153846\n"
    }
   ],
   "source": [
    "print(\"Using hash_str1:\", get_average(hash_table_1))\n",
    "print(\"Using hash_str2:\", get_average(hash_table_2))\n",
    "print(\"Using hash_str3:\", get_average(hash_table_3))\n",
    "print(\"Using hash_str4:\", get_average(hash_table_4))"
   ]
  },
  {
   "cell_type": "markdown",
   "metadata": {
    "deletable": false,
    "editable": false,
    "nbgrader": {
     "checksum": "aaeb9bd55b7a86f8bc8079cbb7f8bca4",
     "grade": false,
     "grade_id": "cell-b86aef4dd22c236c",
     "locked": true,
     "schema_version": 1,
     "solution": false
    }
   },
   "source": [
    "## Question 7.\n",
    "\n",
    "Time how long it takes to find elements that are in each hash table.\n"
   ]
  },
  {
   "cell_type": "code",
   "execution_count": 26,
   "metadata": {},
   "outputs": [],
   "source": [
    "import time\n",
    "\n",
    "\n",
    "def get_average_search_time(hash_table: List, hash_function: Callable[[str], int]) -> float:\n",
    "    \"\"\"\n",
    "    Finds the average time to find each element in the hash table\n",
    "\n",
    "    :param hash_table:\n",
    "        The list containing hashed values\n",
    "\n",
    "    :returns the average time in seconds\n",
    "    \"\"\"\n",
    "\n",
    "    total_time: float = 0\n",
    "    \n",
    "    for word in words:\n",
    "        start: float = time.time()\n",
    "        contains(hash_table, word, hash_function)\n",
    "        total_time += time.time() - start\n",
    "    return total_time / len(words)"
   ]
  },
  {
   "cell_type": "code",
   "execution_count": 27,
   "metadata": {},
   "outputs": [
    {
     "name": "stdout",
     "output_type": "stream",
     "text": "Using hash_str1: 4.0008373260498045e-05\nUsing hash_str2: 0.00016771422624588012\nUsing hash_str3: 3.028256893157959e-06\nUsing hash_str4: 0.00011943712711334229\n"
    }
   ],
   "source": [
    "print(\"Using hash_str1:\", get_average_search_time(hash_table_1, hash_str1))\n",
    "print(\"Using hash_str2:\", get_average_search_time(hash_table_2, hash_str2))\n",
    "print(\"Using hash_str3:\", get_average_search_time(hash_table_3, hash_str3))\n",
    "print(\"Using hash_str4:\", get_average_search_time(hash_table_4, hash_str4))"
   ]
  },
  {
   "cell_type": "markdown",
   "metadata": {
    "deletable": false,
    "editable": false,
    "nbgrader": {
     "checksum": "b051093ca9a2faf1658679380bf29033",
     "grade": false,
     "grade_id": "cell-75db2c2e62cec090",
     "locked": true,
     "schema_version": 1,
     "solution": false
    }
   },
   "source": [
    "## Question 8.\n",
    "For each hash table, time how long it takes to find 10,000 elements that have not been stored."
   ]
  },
  {
   "cell_type": "code",
   "execution_count": null,
   "metadata": {
    "deletable": false,
    "nbgrader": {
     "checksum": "99b2fa8c88000c2143cb00fac1f6aa5f",
     "grade": true,
     "grade_id": "cell-b846b45e1b98ae59",
     "locked": false,
     "points": 0,
     "schema_version": 1,
     "solution": true
    }
   },
   "outputs": [],
   "source": [
    "# YOUR CODE HERE\n",
    "raise NotImplementedError()"
   ]
  }
 ],
 "metadata": {
  "kernelspec": {
   "display_name": "Python 3",
   "language": "python",
   "name": "python3"
  },
  "language_info": {
   "codemirror_mode": {
    "name": "ipython",
    "version": 3
   },
   "file_extension": ".py",
   "mimetype": "text/x-python",
   "name": "python",
   "nbconvert_exporter": "python",
   "pygments_lexer": "ipython3",
   "version": "3.7.3-final"
  }
 },
 "nbformat": 4,
 "nbformat_minor": 2
}