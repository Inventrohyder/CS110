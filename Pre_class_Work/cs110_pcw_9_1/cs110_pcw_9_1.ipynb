{
 "cells": [
  {
   "cell_type": "markdown",
   "metadata": {},
   "source": [
    "Before you turn this problem in, make sure everything runs as expected. First, **restart the kernel** (in the menubar, select Kernel$\\rightarrow$Restart) and then **run all cells** (in the menubar, select Cell$\\rightarrow$Run All).\n",
    "\n",
    "Make sure you fill in any place that says `YOUR CODE HERE` or \"YOUR ANSWER HERE\", as well as your name and collaborators below:"
   ]
  },
  {
   "cell_type": "code",
   "execution_count": 1,
   "metadata": {},
   "outputs": [],
   "source": [
    "NAME = \"Haitham Alhad Hyder\"\n",
    "COLLABORATORS = \"\""
   ]
  },
  {
   "cell_type": "markdown",
   "metadata": {},
   "source": [
    "---"
   ]
  },
  {
   "cell_type": "markdown",
   "metadata": {
    "deletable": false,
    "editable": false,
    "nbgrader": {
     "checksum": "1b7edf2a96e908cf96bc1c9e0d3104a4",
     "grade": false,
     "grade_id": "cell-bd90321d310ba2d4",
     "locked": true,
     "schema_version": 1,
     "solution": false
    }
   },
   "source": [
    "# CS110 Pre-class Work 9.1\n",
    "\n",
    "## Part A. Average number of comparisons when searching"
   ]
  },
  {
   "cell_type": "code",
   "execution_count": 2,
   "metadata": {},
   "outputs": [],
   "source": [
    "from pandas.core.common import flatten\n",
    "\n",
    "## Binary Search Tree\n",
    "##\n",
    "class Node:\n",
    "    def __init__(self, val):\n",
    "        self.l_child = None\n",
    "        self.r_child = None\n",
    "        self.parent = None\n",
    "        self.data = val\n",
    "\n",
    "    def insert(self, node):\n",
    "        \"\"\"inserts a node into a *non-empty* tree rooted at the node, returns\n",
    "        the root\"\"\"\n",
    "        if self.data > node.data:\n",
    "            if self.l_child is None:\n",
    "                self.l_child = node\n",
    "                node.parent = self\n",
    "            else:\n",
    "                self.l_child.insert(node)\n",
    "        else:\n",
    "            if self.r_child is None:\n",
    "                self.r_child = node\n",
    "                node.parent = self\n",
    "            else:\n",
    "                self.r_child.insert(node)\n",
    "        return self\n",
    "    \n",
    "    def minimum(self):\n",
    "        node = self\n",
    "        while node.l_child != None:\n",
    "            node = node.l_child\n",
    "        return node\n",
    "\n",
    "    def search_data(self, value):\n",
    "        \"\"\"searches a *non-empty* tree rooted at the node for a node with\n",
    "        data = value, returns the value if found, None otherwise\"\"\"\n",
    "        node = self.search(value)\n",
    "        if node:\n",
    "            return node.data\n",
    "        else:\n",
    "            return node\n",
    "        \n",
    "    def to_string(self): \n",
    "        print('self.data', self.data)\n",
    "        root=self\n",
    "        if not root: \n",
    "            return 'Nil'\n",
    "        else: \n",
    "            r = root.r_child.to_string() if root.r_child else 'Nil'\n",
    "            l = root.l_child.to_string() if root.l_child else 'Nil'\n",
    "        return 'Node(' + str(root.data) + ' L: ' + l + ' R: ' + r + ')'\n",
    "    \n",
    "    def search(self,value):\n",
    "        if value == self.data:\n",
    "            return self\n",
    "        elif value < self.data and self.l_child:\n",
    "            return self.l_child.search(value)\n",
    "        elif value > self.data and self.r_child:\n",
    "            return self.r_child.search(value)\n",
    "        \n",
    "        return None \n",
    "\n",
    "    def delete(self, value):\n",
    "        self.remove_node(value, self.parent)\n",
    "        return self\n",
    "\n",
    "    def remove_node(self, value, parent):\n",
    "        if value < self.data and self.l_child:\n",
    "            return self.l_child.remove_node(value, self)\n",
    "        elif value < self.data:\n",
    "            return False\n",
    "        elif value > self.data and self.r_child:\n",
    "            return self.r_child.remove_node(value, self)\n",
    "        elif value > self.data:\n",
    "            return False\n",
    "        else:\n",
    "            if self.l_child is None and self.r_child is None and self == parent.l_child:\n",
    "                parent.l_child = None\n",
    "                self.clear_node()\n",
    "            elif self.l_child is None and self.r_child is None and self == parent.r_child:\n",
    "                parent.r_child = None\n",
    "                self.clear_node()\n",
    "            elif self.l_child and self.r_child is None and self == parent.l_child:\n",
    "                parent.l_child = self.l_child\n",
    "                self.clear_node()\n",
    "            elif self.l_child and self.r_child is None and self == parent.r_child:\n",
    "                parent.r_child = self.l_child\n",
    "                self.clear_node()\n",
    "            elif self.r_child and self.l_child is None and self == parent.l_child:\n",
    "                parent.l_child = self.r_child\n",
    "                self.clear_node()\n",
    "            elif self.r_child and self.l_child is None and self == parent.r_child:\n",
    "                parent.r_child = self.r_child\n",
    "                self.clear_node()\n",
    "            else:\n",
    "                self.data = self.r_child.find_minimum_value()\n",
    "                self.r_child.remove_node(self.data, self)\n",
    "\n",
    "            return True\n",
    "\n",
    "    def find_minimum_value(self):\n",
    "        if self.l_child:\n",
    "            return self.l_child.find_minimum_value()\n",
    "        else:\n",
    "            return self.data\n",
    "\n",
    "    def clear_node(self):\n",
    "        self.data = None\n",
    "        self.l_child = None\n",
    "        self.r_child = None\n",
    "\n",
    "\n",
    "    def inorder(self):\n",
    "        output = []\n",
    "        if self.l_child:\n",
    "            output.append(self.l_child.inorder())\n",
    "\n",
    "        output.append(self.data)\n",
    "\n",
    "        if self.r_child:\n",
    "            output.append(self.r_child.inorder())\n",
    "\n",
    "        return output\n",
    "\n",
    "    def children(self):\n",
    "        output = []  \n",
    "        if self.l_child:\n",
    "            output.append(self.l_child.children())   \n",
    "\n",
    "        output.append(self)\n",
    "\n",
    "        if self.r_child:\n",
    "            output.append(self.r_child.children())\n",
    "\n",
    "        return flatten(output)\n"
   ]
  },
  {
   "cell_type": "markdown",
   "metadata": {
    "deletable": false,
    "editable": false,
    "nbgrader": {
     "checksum": "a79cbf2799a45e4c351c9ed9f600c3b5",
     "grade": false,
     "grade_id": "cell-d3f754a4d3637207",
     "locked": true,
     "schema_version": 1,
     "solution": false
    }
   },
   "source": [
    "\n",
    "## Question 1. \n",
    "\n",
    "Complete the following function that computes the depth of a given node in a BST identified by its root. Use the test below to make sure your code works properly (Optional: Why does the test work?)"
   ]
  },
  {
   "cell_type": "code",
   "execution_count": 3,
   "metadata": {},
   "outputs": [],
   "source": [
    "def depth(root: Node, node: Node) -> int:\n",
    "    \"\"\"finds the depth of the node in a BST. depth of root is 0.\n",
    "\n",
    "    Input:\n",
    "    - root: a node, the root of the BST\n",
    "    - node: a node to compute the depth of\n",
    "\n",
    "    Output:\n",
    "    - d: int, distance from node to root\"\"\"\n",
    "\n",
    "    n: Node = node\n",
    "    d: int = 0\n",
    "    while n != root:\n",
    "        d += 1\n",
    "        n = n.parent\n",
    "\n",
    "    return d"
   ]
  },
  {
   "cell_type": "code",
   "execution_count": 4,
   "metadata": {},
   "outputs": [],
   "source": [
    "import math\n",
    "# Testing code \n",
    "bst = None\n",
    "nodes = [Node(15), Node(6), Node(18), Node(3), Node(7), \n",
    "         Node(17), Node(20), Node(2), Node(4)]\n",
    "for node in nodes:\n",
    "    if not bst:\n",
    "        bst = node\n",
    "    else:\n",
    "        bst.insert(node)\n",
    "#         insert(bst, node)\n",
    "for i in range(len(nodes)):\n",
    "    assert(depth(bst, nodes[i]) == int(math.log(i+1,2)))"
   ]
  },
  {
   "cell_type": "code",
   "execution_count": 5,
   "metadata": {},
   "outputs": [],
   "source": [
    "# Please ignore this cell. This cell is for us to implement the tests \n",
    "# to see if your code works properly. "
   ]
  },
  {
   "cell_type": "markdown",
   "metadata": {
    "deletable": false,
    "editable": false,
    "nbgrader": {
     "checksum": "01fa65ccabde3f2f6a8c62aca64dcd53",
     "grade": false,
     "grade_id": "cell-bd8ce3e36c859c2e",
     "locked": true,
     "schema_version": 1,
     "solution": false
    }
   },
   "source": [
    "## Question 2.\n",
    "\n",
    "Complete the following function, making use of `depth`, to calculate the average number of comparisons required to search for a randomly chosen element of a standard BST. For example, the following tree:\n",
    "\n",
    "                            12\n",
    "                              \\\n",
    "                               14\n",
    "\n",
    "will have an average number of comparisons of 1.5. This is because 50% of the time we will be searching for 12 (1 comparison), and 50% of the time we will be searching for 14 (2 comparisons).\n",
    "\n",
    "You can test your function with this test case by constructing the tree using the code from the last session's pre-class work. \n",
    "\n",
    "\n",
    "(*Hint*: the number of comparisons required to search for node a is `depth(root, a) + 1`.) "
   ]
  },
  {
   "cell_type": "code",
   "execution_count": 6,
   "metadata": {},
   "outputs": [],
   "source": [
    "def avg_cmp(bst: Node) -> float:\n",
    "    \"\"\"Finds the average number of comparisons required \n",
    "    to search for a randomly chosen element of a standard BST. \n",
    "    \n",
    "    Input:\n",
    "    - bst: a Node, the root of the BST\n",
    "    \n",
    "    Output:\n",
    "    - n: float, average number of comparisons\"\"\"\n",
    "    nodes = list(bst.children())\n",
    "\n",
    "    total_depths: int = 0\n",
    "    for node in nodes:\n",
    "        total_depths += depth(bst, node) + 1\n",
    "    \n",
    "    return total_depths / len(nodes)"
   ]
  },
  {
   "cell_type": "code",
   "execution_count": 7,
   "metadata": {},
   "outputs": [
    {
     "data": {
      "text/plain": "2.7777777777777777"
     },
     "execution_count": 7,
     "metadata": {},
     "output_type": "execute_result"
    }
   ],
   "source": [
    "avg_cmp(bst)"
   ]
  },
  {
   "cell_type": "code",
   "execution_count": 8,
   "metadata": {},
   "outputs": [],
   "source": [
    "bst = Node(12)\n",
    "bst.insert(Node(14))\n",
    "assert(avg_cmp(bst) == 1.5)"
   ]
  },
  {
   "cell_type": "code",
   "execution_count": 9,
   "metadata": {},
   "outputs": [],
   "source": [
    "# Please ignore this cell. This cell is for us to implement the tests \n",
    "# to see if your code works properly. "
   ]
  },
  {
   "cell_type": "markdown",
   "metadata": {
    "deletable": false,
    "editable": false,
    "nbgrader": {
     "checksum": "219e1c0aea58c5955539210f5c34b000",
     "grade": false,
     "grade_id": "cell-4b7d0c4e86568346",
     "locked": true,
     "schema_version": 1,
     "solution": false
    }
   },
   "source": [
    "## Part B. Depth of randomly-built trees\n",
    "The average number of comparisons for a randomly chosen element within the tree is related to the “average depth” of the tree. Here the average depth of a tree is defined to be the average of the depths of all the nodes in the tree. \n",
    "## Question 1. \n",
    "\n",
    "Complete the following function to find the maximum depth of a node in a given BST. The function must run in $\\mathrm{O}(N)$ time and use $\\mathrm{O}(h)$ space (where $N$ is the number of elements in the BST and $h$ is the height of the tree). Also, note that the maximum depth is equal to the height of the tree.\n"
   ]
  },
  {
   "cell_type": "code",
   "execution_count": 10,
   "metadata": {},
   "outputs": [],
   "source": [
    "def max_depth(bst):\n",
    "    \"\"\"Finds the maximum depth of node in a BST.\n",
    "    \n",
    "    Input:\n",
    "    - bst: a Node, the root of the BST\n",
    "    \n",
    "    Output:\n",
    "    - h: int, the maximum depth in a BST\"\"\"\n",
    "    nodes = list(bst.children())\n",
    "\n",
    "    highest_depth: int = 0\n",
    "\n",
    "    for node in nodes:\n",
    "        current_depth = depth(bst, node)\n",
    "        if current_depth > highest_depth:\n",
    "            highest_depth = current_depth\n",
    "\n",
    "    return highest_depth"
   ]
  },
  {
   "cell_type": "code",
   "execution_count": 11,
   "metadata": {},
   "outputs": [
    {
     "data": {
      "text/plain": "7"
     },
     "execution_count": 11,
     "metadata": {},
     "output_type": "execute_result"
    }
   ],
   "source": [
    "lst = [8, 1, 7, 2, 6, 3, 5, 4]\n",
    "\n",
    "bst = Node(lst[0])\n",
    "for i in lst[1:]:\n",
    "    bst.insert(Node(i))\n",
    "\n",
    "max_depth(bst)"
   ]
  },
  {
   "cell_type": "code",
   "execution_count": 12,
   "metadata": {},
   "outputs": [
    {
     "data": {
      "text/plain": "7"
     },
     "execution_count": 12,
     "metadata": {},
     "output_type": "execute_result"
    }
   ],
   "source": [
    "max_depth(bst)"
   ]
  },
  {
   "cell_type": "code",
   "execution_count": 13,
   "metadata": {},
   "outputs": [],
   "source": [
    "# Please ignore this cell. This cell is for us to implement the tests \n",
    "# to see if your code works properly. "
   ]
  },
  {
   "cell_type": "markdown",
   "metadata": {
    "deletable": false,
    "editable": false,
    "nbgrader": {
     "checksum": "3224988f295d6adc77632f7f4ff5c8e2",
     "grade": false,
     "grade_id": "cell-fd78b979c52b9527",
     "locked": true,
     "schema_version": 1,
     "solution": false
    }
   },
   "source": [
    "## Question 2. \n",
    "\n",
    "Using the `avg_cmp` function, complete the following function to return the average depth of the tree. The average depth is related to the average number of comparisons as `average depth = (average comparisons - 1)`, since the root has depth zero."
   ]
  },
  {
   "cell_type": "code",
   "execution_count": 14,
   "metadata": {},
   "outputs": [],
   "source": [
    "def avg_depth(bst):\n",
    "    \"\"\"Computes the average depth of a BST\n",
    "    \n",
    "    Input:\n",
    "    - bst: a Node, root of the BST\n",
    "    \n",
    "    Output:\n",
    "    - avg_d: float, average depth of the BST\"\"\"\n",
    "    return avg_cmp(bst) - 1"
   ]
  },
  {
   "cell_type": "code",
   "execution_count": 15,
   "metadata": {},
   "outputs": [
    {
     "data": {
      "text/plain": "3.5"
     },
     "execution_count": 15,
     "metadata": {},
     "output_type": "execute_result"
    }
   ],
   "source": [
    "avg_depth(bst)"
   ]
  },
  {
   "cell_type": "code",
   "execution_count": 16,
   "metadata": {},
   "outputs": [],
   "source": [
    "# Please ignore this cell. This cell is for us to implement the tests \n",
    "# to see if your code works properly. "
   ]
  },
  {
   "cell_type": "markdown",
   "metadata": {
    "deletable": false,
    "editable": false,
    "nbgrader": {
     "checksum": "25274f67359e9c4280895dca8e0589d1",
     "grade": false,
     "grade_id": "cell-6365329a3c57c1b1",
     "locked": true,
     "schema_version": 1,
     "solution": false
    }
   },
   "source": [
    "## Question 3.\n",
    "Now, insert randomly shuffled lists into BSTs, and measure the average depth and the maximum depth. How do these statistics scale as you increase $N$, the number of nodes? Make sure to give a compelling argument that motivates this scaling behaviour (you do not need to provide a technical derivation)."
   ]
  },
  {
   "cell_type": "code",
   "execution_count": 17,
   "metadata": {},
   "outputs": [],
   "source": [
    "import seaborn as sns\n",
    "import numpy as np\n",
    "import pandas as pd\n",
    "\n",
    "def analyse_nodes(min_n: int = 10,\n",
    "                    max_n: int = 1000,\n",
    "                    step_n: int = 50,\n",
    "                    reps: int = 10,\n",
    "                ) -> tuple:\n",
    "    \n",
    "    average_depths = []\n",
    "    maximum_depths = []\n",
    "    n_s = list(range(min_n, max_n, step_n))\n",
    "\n",
    "    total_avg_depths: float = 0.0\n",
    "    total_max_depths: int = 0\n",
    "\n",
    "    for n in n_s:\n",
    "        lst = list(range(n))\n",
    "        total_avg_depths: float = 0.0\n",
    "        total_max_depths: int = 0\n",
    "        for i in range(reps):\n",
    "            np.random.shuffle(lst)\n",
    "            bst = Node(lst[0])\n",
    "            for i in lst[1:]:\n",
    "                bst.insert(Node(i))\n",
    "            total_avg_depths += avg_cmp(bst)\n",
    "            total_max_depths += max_depth(bst)\n",
    "        average_depths.append(total_avg_depths/reps)\n",
    "        maximum_depths.append(total_max_depths/reps)\n",
    "\n",
    "    return n_s, average_depths, maximum_depths\n"
   ]
  },
  {
   "cell_type": "markdown",
   "metadata": {
    "deletable": false,
    "nbgrader": {
     "checksum": "8a281cd793099803988046803bed99ba",
     "grade": true,
     "grade_id": "cell-bad918a333cabe43",
     "locked": false,
     "points": 0,
     "schema_version": 1,
     "solution": true
    }
   },
   "source": [
    "The values for both _average depths_ and _maximum depths_ are increasing as `n` increases."
   ]
  },
  {
   "cell_type": "markdown",
   "metadata": {
    "deletable": false,
    "editable": false,
    "nbgrader": {
     "checksum": "dd1dd0c5c45fc94abb6229a38d8e04a2",
     "grade": false,
     "grade_id": "cell-3255b4081c295fa6",
     "locked": true,
     "schema_version": 1,
     "solution": false
    }
   },
   "source": [
    "\n",
    "## Question 4.\n",
    "\n",
    "Produce a plot showing the scaling behavior that you saw of both the average depth and the maximum depth as a function of the length of the shuffled list. For a meaningful figure, be sure to scale out to a list of size 10,000 and average the timings 50 times. (You don’t have to sample each value from 1 to 10,000!). Is this plot in agreement with the theoretical result you obtained in the previous question? Explain. \n"
   ]
  },
  {
   "cell_type": "code",
   "execution_count": 18,
   "metadata": {},
   "outputs": [],
   "source": [
    "N, avg_depths, max_depths = analyse_nodes(max_n =1000, step_n = 5, reps=20)"
   ]
  },
  {
   "cell_type": "code",
   "execution_count": 19,
   "metadata": {},
   "outputs": [
    {
     "data": {
      "image/png": "[encoded data removed]",
      "image/svg+xml": "<?xml version=\"1.0\" encoding=\"utf-8\" standalone=\"no\"?>\n<!DOCTYPE svg PUBLIC \"-//W3C//DTD SVG 1.1//EN\"\n  \"http://www.w3.org/Graphics/SVG/1.1/DTD/svg11.dtd\">\n<!-- Created with matplotlib (http://matplotlib.org/) -->\n<svg height=\"266.48692pt\" version=\"1.1\" viewBox=\"0 0 395.64375 266.48692\" width=\"395.64375pt\" xmlns=\"http://www.w3.org/2000/svg\" xmlns:xlink=\"http://www.w3.org/1999/xlink\">\n <defs>\n  <style type=\"text/css\">\n*{stroke-linecap:butt;stroke-linejoin:round;}\n  </style>\n </defs>\n <g id=\"figure_1\">\n  <g id=\"patch_1\">\n   <path d=\"M 0 266.48692 \nL 395.64375 266.48692 \nL 395.64375 0 \nL 0 0 \nz\n\" style=\"fill:none;\"/>\n  </g>\n  <g id=\"axes_1\">\n   <g id=\"patch_2\">\n    <path d=\"M 50.14375 228.93067 \nL 384.94375 228.93067 \nL 384.94375 11.49067 \nL 50.14375 11.49067 \nz\n\" style=\"fill:#ffffff;\"/>\n   </g>\n   <g id=\"matplotlib.axis_1\">\n    <g id=\"xtick_1\">\n     <g id=\"line2d_1\">\n      <defs>\n       <path d=\"M 0 0 \nL 0 3.5 \n\" id=\"m1a8ab27ed0\" style=\"stroke:#000000;stroke-width:0.8;\"/>\n      </defs>\n      <g>\n       <use style=\"stroke:#000000;stroke-width:0.8;\" x=\"62.271946\" xlink:href=\"#m1a8ab27ed0\" y=\"228.93067\"/>\n      </g>\n     </g>\n     <g id=\"text_1\">\n      <!-- 0 -->\n      <defs>\n       <path d=\"M 31.78125 66.40625 \nQ 24.171875 66.40625 20.328125 58.90625 \nQ 16.5 51.421875 16.5 36.375 \nQ 16.5 21.390625 20.328125 13.890625 \nQ 24.171875 6.390625 31.78125 6.390625 \nQ 39.453125 6.390625 43.28125 13.890625 \nQ 47.125 21.390625 47.125 36.375 \nQ 47.125 51.421875 43.28125 58.90625 \nQ 39.453125 66.40625 31.78125 66.40625 \nz\nM 31.78125 74.21875 \nQ 44.046875 74.21875 50.515625 64.515625 \nQ 56.984375 54.828125 56.984375 36.375 \nQ 56.984375 17.96875 50.515625 8.265625 \nQ 44.046875 -1.421875 31.78125 -1.421875 \nQ 19.53125 -1.421875 13.0625 8.265625 \nQ 6.59375 17.96875 6.59375 36.375 \nQ 6.59375 54.828125 13.0625 64.515625 \nQ 19.53125 74.21875 31.78125 74.21875 \nz\n\" id=\"DejaVuSans-30\"/>\n      </defs>\n      <g transform=\"translate(59.090696 243.529108)scale(0.1 -0.1)\">\n       <use xlink:href=\"#DejaVuSans-30\"/>\n      </g>\n     </g>\n    </g>\n    <g id=\"xtick_2\">\n     <g id=\"line2d_2\">\n      <g>\n       <use style=\"stroke:#000000;stroke-width:0.8;\" x=\"124.071669\" xlink:href=\"#m1a8ab27ed0\" y=\"228.93067\"/>\n      </g>\n     </g>\n     <g id=\"text_2\">\n      <!-- 200 -->\n      <defs>\n       <path d=\"M 19.1875 8.296875 \nL 53.609375 8.296875 \nL 53.609375 0 \nL 7.328125 0 \nL 7.328125 8.296875 \nQ 12.9375 14.109375 22.625 23.890625 \nQ 32.328125 33.6875 34.8125 36.53125 \nQ 39.546875 41.84375 41.421875 45.53125 \nQ 43.3125 49.21875 43.3125 52.78125 \nQ 43.3125 58.59375 39.234375 62.25 \nQ 35.15625 65.921875 28.609375 65.921875 \nQ 23.96875 65.921875 18.8125 64.3125 \nQ 13.671875 62.703125 7.8125 59.421875 \nL 7.8125 69.390625 \nQ 13.765625 71.78125 18.9375 73 \nQ 24.125 74.21875 28.421875 74.21875 \nQ 39.75 74.21875 46.484375 68.546875 \nQ 53.21875 62.890625 53.21875 53.421875 \nQ 53.21875 48.921875 51.53125 44.890625 \nQ 49.859375 40.875 45.40625 35.40625 \nQ 44.1875 33.984375 37.640625 27.21875 \nQ 31.109375 20.453125 19.1875 8.296875 \nz\n\" id=\"DejaVuSans-32\"/>\n      </defs>\n      <g transform=\"translate(114.527919 243.529108)scale(0.1 -0.1)\">\n       <use xlink:href=\"#DejaVuSans-32\"/>\n       <use x=\"63.623047\" xlink:href=\"#DejaVuSans-30\"/>\n       <use x=\"127.246094\" xlink:href=\"#DejaVuSans-30\"/>\n      </g>\n     </g>\n    </g>\n    <g id=\"xtick_3\">\n     <g id=\"line2d_3\">\n      <g>\n       <use style=\"stroke:#000000;stroke-width:0.8;\" x=\"185.871392\" xlink:href=\"#m1a8ab27ed0\" y=\"228.93067\"/>\n      </g>\n     </g>\n     <g id=\"text_3\">\n      <!-- 400 -->\n      <defs>\n       <path d=\"M 37.796875 64.3125 \nL 12.890625 25.390625 \nL 37.796875 25.390625 \nz\nM 35.203125 72.90625 \nL 47.609375 72.90625 \nL 47.609375 25.390625 \nL 58.015625 25.390625 \nL 58.015625 17.1875 \nL 47.609375 17.1875 \nL 47.609375 0 \nL 37.796875 0 \nL 37.796875 17.1875 \nL 4.890625 17.1875 \nL 4.890625 26.703125 \nz\n\" id=\"DejaVuSans-34\"/>\n      </defs>\n      <g transform=\"translate(176.327642 243.529108)scale(0.1 -0.1)\">\n       <use xlink:href=\"#DejaVuSans-34\"/>\n       <use x=\"63.623047\" xlink:href=\"#DejaVuSans-30\"/>\n       <use x=\"127.246094\" xlink:href=\"#DejaVuSans-30\"/>\n      </g>\n     </g>\n    </g>\n    <g id=\"xtick_4\">\n     <g id=\"line2d_4\">\n      <g>\n       <use style=\"stroke:#000000;stroke-width:0.8;\" x=\"247.671115\" xlink:href=\"#m1a8ab27ed0\" y=\"228.93067\"/>\n      </g>\n     </g>\n     <g id=\"text_4\">\n      <!-- 600 -->\n      <defs>\n       <path d=\"M 33.015625 40.375 \nQ 26.375 40.375 22.484375 35.828125 \nQ 18.609375 31.296875 18.609375 23.390625 \nQ 18.609375 15.53125 22.484375 10.953125 \nQ 26.375 6.390625 33.015625 6.390625 \nQ 39.65625 6.390625 43.53125 10.953125 \nQ 47.40625 15.53125 47.40625 23.390625 \nQ 47.40625 31.296875 43.53125 35.828125 \nQ 39.65625 40.375 33.015625 40.375 \nz\nM 52.59375 71.296875 \nL 52.59375 62.3125 \nQ 48.875 64.0625 45.09375 64.984375 \nQ 41.3125 65.921875 37.59375 65.921875 \nQ 27.828125 65.921875 22.671875 59.328125 \nQ 17.53125 52.734375 16.796875 39.40625 \nQ 19.671875 43.65625 24.015625 45.921875 \nQ 28.375 48.1875 33.59375 48.1875 \nQ 44.578125 48.1875 50.953125 41.515625 \nQ 57.328125 34.859375 57.328125 23.390625 \nQ 57.328125 12.15625 50.6875 5.359375 \nQ 44.046875 -1.421875 33.015625 -1.421875 \nQ 20.359375 -1.421875 13.671875 8.265625 \nQ 6.984375 17.96875 6.984375 36.375 \nQ 6.984375 53.65625 15.1875 63.9375 \nQ 23.390625 74.21875 37.203125 74.21875 \nQ 40.921875 74.21875 44.703125 73.484375 \nQ 48.484375 72.75 52.59375 71.296875 \nz\n\" id=\"DejaVuSans-36\"/>\n      </defs>\n      <g transform=\"translate(238.127365 243.529108)scale(0.1 -0.1)\">\n       <use xlink:href=\"#DejaVuSans-36\"/>\n       <use x=\"63.623047\" xlink:href=\"#DejaVuSans-30\"/>\n       <use x=\"127.246094\" xlink:href=\"#DejaVuSans-30\"/>\n      </g>\n     </g>\n    </g>\n    <g id=\"xtick_5\">\n     <g id=\"line2d_5\">\n      <g>\n       <use style=\"stroke:#000000;stroke-width:0.8;\" x=\"309.470838\" xlink:href=\"#m1a8ab27ed0\" y=\"228.93067\"/>\n      </g>\n     </g>\n     <g id=\"text_5\">\n      <!-- 800 -->\n      <defs>\n       <path d=\"M 31.78125 34.625 \nQ 24.75 34.625 20.71875 30.859375 \nQ 16.703125 27.09375 16.703125 20.515625 \nQ 16.703125 13.921875 20.71875 10.15625 \nQ 24.75 6.390625 31.78125 6.390625 \nQ 38.8125 6.390625 42.859375 10.171875 \nQ 46.921875 13.96875 46.921875 20.515625 \nQ 46.921875 27.09375 42.890625 30.859375 \nQ 38.875 34.625 31.78125 34.625 \nz\nM 21.921875 38.8125 \nQ 15.578125 40.375 12.03125 44.71875 \nQ 8.5 49.078125 8.5 55.328125 \nQ 8.5 64.0625 14.71875 69.140625 \nQ 20.953125 74.21875 31.78125 74.21875 \nQ 42.671875 74.21875 48.875 69.140625 \nQ 55.078125 64.0625 55.078125 55.328125 \nQ 55.078125 49.078125 51.53125 44.71875 \nQ 48 40.375 41.703125 38.8125 \nQ 48.828125 37.15625 52.796875 32.3125 \nQ 56.78125 27.484375 56.78125 20.515625 \nQ 56.78125 9.90625 50.3125 4.234375 \nQ 43.84375 -1.421875 31.78125 -1.421875 \nQ 19.734375 -1.421875 13.25 4.234375 \nQ 6.78125 9.90625 6.78125 20.515625 \nQ 6.78125 27.484375 10.78125 32.3125 \nQ 14.796875 37.15625 21.921875 38.8125 \nz\nM 18.3125 54.390625 \nQ 18.3125 48.734375 21.84375 45.5625 \nQ 25.390625 42.390625 31.78125 42.390625 \nQ 38.140625 42.390625 41.71875 45.5625 \nQ 45.3125 48.734375 45.3125 54.390625 \nQ 45.3125 60.0625 41.71875 63.234375 \nQ 38.140625 66.40625 31.78125 66.40625 \nQ 25.390625 66.40625 21.84375 63.234375 \nQ 18.3125 60.0625 18.3125 54.390625 \nz\n\" id=\"DejaVuSans-38\"/>\n      </defs>\n      <g transform=\"translate(299.927088 243.529108)scale(0.1 -0.1)\">\n       <use xlink:href=\"#DejaVuSans-38\"/>\n       <use x=\"63.623047\" xlink:href=\"#DejaVuSans-30\"/>\n       <use x=\"127.246094\" xlink:href=\"#DejaVuSans-30\"/>\n      </g>\n     </g>\n    </g>\n    <g id=\"xtick_6\">\n     <g id=\"line2d_6\">\n      <g>\n       <use style=\"stroke:#000000;stroke-width:0.8;\" x=\"371.270561\" xlink:href=\"#m1a8ab27ed0\" y=\"228.93067\"/>\n      </g>\n     </g>\n     <g id=\"text_6\">\n      <!-- 1000 -->\n      <defs>\n       <path d=\"M 12.40625 8.296875 \nL 28.515625 8.296875 \nL 28.515625 63.921875 \nL 10.984375 60.40625 \nL 10.984375 69.390625 \nL 28.421875 72.90625 \nL 38.28125 72.90625 \nL 38.28125 8.296875 \nL 54.390625 8.296875 \nL 54.390625 0 \nL 12.40625 0 \nz\n\" id=\"DejaVuSans-31\"/>\n      </defs>\n      <g transform=\"translate(358.545561 243.529108)scale(0.1 -0.1)\">\n       <use xlink:href=\"#DejaVuSans-31\"/>\n       <use x=\"63.623047\" xlink:href=\"#DejaVuSans-30\"/>\n       <use x=\"127.246094\" xlink:href=\"#DejaVuSans-30\"/>\n       <use x=\"190.869141\" xlink:href=\"#DejaVuSans-30\"/>\n      </g>\n     </g>\n    </g>\n    <g id=\"text_7\">\n     <!-- $N$ -->\n     <defs>\n      <path d=\"M 16.890625 72.90625 \nL 30.171875 72.90625 \nL 50.296875 10.40625 \nL 62.5 72.90625 \nL 72.125 72.90625 \nL 57.90625 0 \nL 44.578125 0 \nL 24.515625 62.890625 \nL 12.3125 0 \nL 2.6875 0 \nz\n\" id=\"DejaVuSans-Oblique-4e\"/>\n     </defs>\n     <g transform=\"translate(213.79375 257.207233)scale(0.1 -0.1)\">\n      <use transform=\"translate(0 0.09375)\" xlink:href=\"#DejaVuSans-Oblique-4e\"/>\n     </g>\n    </g>\n   </g>\n   <g id=\"matplotlib.axis_2\">\n    <g id=\"ytick_1\">\n     <g id=\"line2d_7\">\n      <defs>\n       <path d=\"M 0 0 \nL -3.5 0 \n\" id=\"m9cfc9262fd\" style=\"stroke:#000000;stroke-width:0.8;\"/>\n      </defs>\n      <g>\n       <use style=\"stroke:#000000;stroke-width:0.8;\" x=\"50.14375\" xlink:href=\"#m9cfc9262fd\" y=\"229.422122\"/>\n      </g>\n     </g>\n     <g id=\"text_8\">\n      <!-- 2.5 -->\n      <defs>\n       <path d=\"M 10.6875 12.40625 \nL 21 12.40625 \nL 21 0 \nL 10.6875 0 \nz\n\" id=\"DejaVuSans-2e\"/>\n       <path d=\"M 10.796875 72.90625 \nL 49.515625 72.90625 \nL 49.515625 64.59375 \nL 19.828125 64.59375 \nL 19.828125 46.734375 \nQ 21.96875 47.46875 24.109375 47.828125 \nQ 26.265625 48.1875 28.421875 48.1875 \nQ 40.625 48.1875 47.75 41.5 \nQ 54.890625 34.8125 54.890625 23.390625 \nQ 54.890625 11.625 47.5625 5.09375 \nQ 40.234375 -1.421875 26.90625 -1.421875 \nQ 22.3125 -1.421875 17.546875 -0.640625 \nQ 12.796875 0.140625 7.71875 1.703125 \nL 7.71875 11.625 \nQ 12.109375 9.234375 16.796875 8.0625 \nQ 21.484375 6.890625 26.703125 6.890625 \nQ 35.15625 6.890625 40.078125 11.328125 \nQ 45.015625 15.765625 45.015625 23.390625 \nQ 45.015625 31 40.078125 35.4375 \nQ 35.15625 39.890625 26.703125 39.890625 \nQ 22.75 39.890625 18.8125 39.015625 \nQ 14.890625 38.140625 10.796875 36.28125 \nz\n\" id=\"DejaVuSans-35\"/>\n      </defs>\n      <g transform=\"translate(27.240625 233.221341)scale(0.1 -0.1)\">\n       <use xlink:href=\"#DejaVuSans-32\"/>\n       <use x=\"63.623047\" xlink:href=\"#DejaVuSans-2e\"/>\n       <use x=\"95.410156\" xlink:href=\"#DejaVuSans-35\"/>\n      </g>\n     </g>\n    </g>\n    <g id=\"ytick_2\">\n     <g id=\"line2d_8\">\n      <g>\n       <use style=\"stroke:#000000;stroke-width:0.8;\" x=\"50.14375\" xlink:href=\"#m9cfc9262fd\" y=\"202.119259\"/>\n      </g>\n     </g>\n     <g id=\"text_9\">\n      <!-- 5.0 -->\n      <g transform=\"translate(27.240625 205.918478)scale(0.1 -0.1)\">\n       <use xlink:href=\"#DejaVuSans-35\"/>\n       <use x=\"63.623047\" xlink:href=\"#DejaVuSans-2e\"/>\n       <use x=\"95.410156\" xlink:href=\"#DejaVuSans-30\"/>\n      </g>\n     </g>\n    </g>\n    <g id=\"ytick_3\">\n     <g id=\"line2d_9\">\n      <g>\n       <use style=\"stroke:#000000;stroke-width:0.8;\" x=\"50.14375\" xlink:href=\"#m9cfc9262fd\" y=\"174.816396\"/>\n      </g>\n     </g>\n     <g id=\"text_10\">\n      <!-- 7.5 -->\n      <defs>\n       <path d=\"M 8.203125 72.90625 \nL 55.078125 72.90625 \nL 55.078125 68.703125 \nL 28.609375 0 \nL 18.3125 0 \nL 43.21875 64.59375 \nL 8.203125 64.59375 \nz\n\" id=\"DejaVuSans-37\"/>\n      </defs>\n      <g transform=\"translate(27.240625 178.615615)scale(0.1 -0.1)\">\n       <use xlink:href=\"#DejaVuSans-37\"/>\n       <use x=\"63.623047\" xlink:href=\"#DejaVuSans-2e\"/>\n       <use x=\"95.410156\" xlink:href=\"#DejaVuSans-35\"/>\n      </g>\n     </g>\n    </g>\n    <g id=\"ytick_4\">\n     <g id=\"line2d_10\">\n      <g>\n       <use style=\"stroke:#000000;stroke-width:0.8;\" x=\"50.14375\" xlink:href=\"#m9cfc9262fd\" y=\"147.513533\"/>\n      </g>\n     </g>\n     <g id=\"text_11\">\n      <!-- 10.0 -->\n      <g transform=\"translate(20.878125 151.312752)scale(0.1 -0.1)\">\n       <use xlink:href=\"#DejaVuSans-31\"/>\n       <use x=\"63.623047\" xlink:href=\"#DejaVuSans-30\"/>\n       <use x=\"127.246094\" xlink:href=\"#DejaVuSans-2e\"/>\n       <use x=\"159.033203\" xlink:href=\"#DejaVuSans-30\"/>\n      </g>\n     </g>\n    </g>\n    <g id=\"ytick_5\">\n     <g id=\"line2d_11\">\n      <g>\n       <use style=\"stroke:#000000;stroke-width:0.8;\" x=\"50.14375\" xlink:href=\"#m9cfc9262fd\" y=\"120.21067\"/>\n      </g>\n     </g>\n     <g id=\"text_12\">\n      <!-- 12.5 -->\n      <g transform=\"translate(20.878125 124.009889)scale(0.1 -0.1)\">\n       <use xlink:href=\"#DejaVuSans-31\"/>\n       <use x=\"63.623047\" xlink:href=\"#DejaVuSans-32\"/>\n       <use x=\"127.246094\" xlink:href=\"#DejaVuSans-2e\"/>\n       <use x=\"159.033203\" xlink:href=\"#DejaVuSans-35\"/>\n      </g>\n     </g>\n    </g>\n    <g id=\"ytick_6\">\n     <g id=\"line2d_12\">\n      <g>\n       <use style=\"stroke:#000000;stroke-width:0.8;\" x=\"50.14375\" xlink:href=\"#m9cfc9262fd\" y=\"92.907807\"/>\n      </g>\n     </g>\n     <g id=\"text_13\">\n      <!-- 15.0 -->\n      <g transform=\"translate(20.878125 96.707026)scale(0.1 -0.1)\">\n       <use xlink:href=\"#DejaVuSans-31\"/>\n       <use x=\"63.623047\" xlink:href=\"#DejaVuSans-35\"/>\n       <use x=\"127.246094\" xlink:href=\"#DejaVuSans-2e\"/>\n       <use x=\"159.033203\" xlink:href=\"#DejaVuSans-30\"/>\n      </g>\n     </g>\n    </g>\n    <g id=\"ytick_7\">\n     <g id=\"line2d_13\">\n      <g>\n       <use style=\"stroke:#000000;stroke-width:0.8;\" x=\"50.14375\" xlink:href=\"#m9cfc9262fd\" y=\"65.604945\"/>\n      </g>\n     </g>\n     <g id=\"text_14\">\n      <!-- 17.5 -->\n      <g transform=\"translate(20.878125 69.404163)scale(0.1 -0.1)\">\n       <use xlink:href=\"#DejaVuSans-31\"/>\n       <use x=\"63.623047\" xlink:href=\"#DejaVuSans-37\"/>\n       <use x=\"127.246094\" xlink:href=\"#DejaVuSans-2e\"/>\n       <use x=\"159.033203\" xlink:href=\"#DejaVuSans-35\"/>\n      </g>\n     </g>\n    </g>\n    <g id=\"ytick_8\">\n     <g id=\"line2d_14\">\n      <g>\n       <use style=\"stroke:#000000;stroke-width:0.8;\" x=\"50.14375\" xlink:href=\"#m9cfc9262fd\" y=\"38.302082\"/>\n      </g>\n     </g>\n     <g id=\"text_15\">\n      <!-- 20.0 -->\n      <g transform=\"translate(20.878125 42.1013)scale(0.1 -0.1)\">\n       <use xlink:href=\"#DejaVuSans-32\"/>\n       <use x=\"63.623047\" xlink:href=\"#DejaVuSans-30\"/>\n       <use x=\"127.246094\" xlink:href=\"#DejaVuSans-2e\"/>\n       <use x=\"159.033203\" xlink:href=\"#DejaVuSans-30\"/>\n      </g>\n     </g>\n    </g>\n    <g id=\"ytick_9\">\n     <g id=\"line2d_15\">\n      <g>\n       <use style=\"stroke:#000000;stroke-width:0.8;\" x=\"50.14375\" xlink:href=\"#m9cfc9262fd\" y=\"10.999219\"/>\n      </g>\n     </g>\n     <g id=\"text_16\">\n      <!-- 22.5 -->\n      <g transform=\"translate(20.878125 14.798438)scale(0.1 -0.1)\">\n       <use xlink:href=\"#DejaVuSans-32\"/>\n       <use x=\"63.623047\" xlink:href=\"#DejaVuSans-32\"/>\n       <use x=\"127.246094\" xlink:href=\"#DejaVuSans-2e\"/>\n       <use x=\"159.033203\" xlink:href=\"#DejaVuSans-35\"/>\n      </g>\n     </g>\n    </g>\n    <g id=\"text_17\">\n     <!-- depths -->\n     <defs>\n      <path d=\"M 45.40625 46.390625 \nL 45.40625 75.984375 \nL 54.390625 75.984375 \nL 54.390625 0 \nL 45.40625 0 \nL 45.40625 8.203125 \nQ 42.578125 3.328125 38.25 0.953125 \nQ 33.9375 -1.421875 27.875 -1.421875 \nQ 17.96875 -1.421875 11.734375 6.484375 \nQ 5.515625 14.40625 5.515625 27.296875 \nQ 5.515625 40.1875 11.734375 48.09375 \nQ 17.96875 56 27.875 56 \nQ 33.9375 56 38.25 53.625 \nQ 42.578125 51.265625 45.40625 46.390625 \nz\nM 14.796875 27.296875 \nQ 14.796875 17.390625 18.875 11.75 \nQ 22.953125 6.109375 30.078125 6.109375 \nQ 37.203125 6.109375 41.296875 11.75 \nQ 45.40625 17.390625 45.40625 27.296875 \nQ 45.40625 37.203125 41.296875 42.84375 \nQ 37.203125 48.484375 30.078125 48.484375 \nQ 22.953125 48.484375 18.875 42.84375 \nQ 14.796875 37.203125 14.796875 27.296875 \nz\n\" id=\"DejaVuSans-64\"/>\n      <path d=\"M 56.203125 29.59375 \nL 56.203125 25.203125 \nL 14.890625 25.203125 \nQ 15.484375 15.921875 20.484375 11.0625 \nQ 25.484375 6.203125 34.421875 6.203125 \nQ 39.59375 6.203125 44.453125 7.46875 \nQ 49.3125 8.734375 54.109375 11.28125 \nL 54.109375 2.78125 \nQ 49.265625 0.734375 44.1875 -0.34375 \nQ 39.109375 -1.421875 33.890625 -1.421875 \nQ 20.796875 -1.421875 13.15625 6.1875 \nQ 5.515625 13.8125 5.515625 26.8125 \nQ 5.515625 40.234375 12.765625 48.109375 \nQ 20.015625 56 32.328125 56 \nQ 43.359375 56 49.78125 48.890625 \nQ 56.203125 41.796875 56.203125 29.59375 \nz\nM 47.21875 32.234375 \nQ 47.125 39.59375 43.09375 43.984375 \nQ 39.0625 48.390625 32.421875 48.390625 \nQ 24.90625 48.390625 20.390625 44.140625 \nQ 15.875 39.890625 15.1875 32.171875 \nz\n\" id=\"DejaVuSans-65\"/>\n      <path d=\"M 18.109375 8.203125 \nL 18.109375 -20.796875 \nL 9.078125 -20.796875 \nL 9.078125 54.6875 \nL 18.109375 54.6875 \nL 18.109375 46.390625 \nQ 20.953125 51.265625 25.265625 53.625 \nQ 29.59375 56 35.59375 56 \nQ 45.5625 56 51.78125 48.09375 \nQ 58.015625 40.1875 58.015625 27.296875 \nQ 58.015625 14.40625 51.78125 6.484375 \nQ 45.5625 -1.421875 35.59375 -1.421875 \nQ 29.59375 -1.421875 25.265625 0.953125 \nQ 20.953125 3.328125 18.109375 8.203125 \nz\nM 48.6875 27.296875 \nQ 48.6875 37.203125 44.609375 42.84375 \nQ 40.53125 48.484375 33.40625 48.484375 \nQ 26.265625 48.484375 22.1875 42.84375 \nQ 18.109375 37.203125 18.109375 27.296875 \nQ 18.109375 17.390625 22.1875 11.75 \nQ 26.265625 6.109375 33.40625 6.109375 \nQ 40.53125 6.109375 44.609375 11.75 \nQ 48.6875 17.390625 48.6875 27.296875 \nz\n\" id=\"DejaVuSans-70\"/>\n      <path d=\"M 18.3125 70.21875 \nL 18.3125 54.6875 \nL 36.8125 54.6875 \nL 36.8125 47.703125 \nL 18.3125 47.703125 \nL 18.3125 18.015625 \nQ 18.3125 11.328125 20.140625 9.421875 \nQ 21.96875 7.515625 27.59375 7.515625 \nL 36.8125 7.515625 \nL 36.8125 0 \nL 27.59375 0 \nQ 17.1875 0 13.234375 3.875 \nQ 9.28125 7.765625 9.28125 18.015625 \nL 9.28125 47.703125 \nL 2.6875 47.703125 \nL 2.6875 54.6875 \nL 9.28125 54.6875 \nL 9.28125 70.21875 \nz\n\" id=\"DejaVuSans-74\"/>\n      <path d=\"M 54.890625 33.015625 \nL 54.890625 0 \nL 45.90625 0 \nL 45.90625 32.71875 \nQ 45.90625 40.484375 42.875 44.328125 \nQ 39.84375 48.1875 33.796875 48.1875 \nQ 26.515625 48.1875 22.3125 43.546875 \nQ 18.109375 38.921875 18.109375 30.90625 \nL 18.109375 0 \nL 9.078125 0 \nL 9.078125 75.984375 \nL 18.109375 75.984375 \nL 18.109375 46.1875 \nQ 21.34375 51.125 25.703125 53.5625 \nQ 30.078125 56 35.796875 56 \nQ 45.21875 56 50.046875 50.171875 \nQ 54.890625 44.34375 54.890625 33.015625 \nz\n\" id=\"DejaVuSans-68\"/>\n      <path d=\"M 44.28125 53.078125 \nL 44.28125 44.578125 \nQ 40.484375 46.53125 36.375 47.5 \nQ 32.28125 48.484375 27.875 48.484375 \nQ 21.1875 48.484375 17.84375 46.4375 \nQ 14.5 44.390625 14.5 40.28125 \nQ 14.5 37.15625 16.890625 35.375 \nQ 19.28125 33.59375 26.515625 31.984375 \nL 29.59375 31.296875 \nQ 39.15625 29.25 43.1875 25.515625 \nQ 47.21875 21.78125 47.21875 15.09375 \nQ 47.21875 7.46875 41.1875 3.015625 \nQ 35.15625 -1.421875 24.609375 -1.421875 \nQ 20.21875 -1.421875 15.453125 -0.5625 \nQ 10.6875 0.296875 5.421875 2 \nL 5.421875 11.28125 \nQ 10.40625 8.6875 15.234375 7.390625 \nQ 20.0625 6.109375 24.8125 6.109375 \nQ 31.15625 6.109375 34.5625 8.28125 \nQ 37.984375 10.453125 37.984375 14.40625 \nQ 37.984375 18.0625 35.515625 20.015625 \nQ 33.0625 21.96875 24.703125 23.78125 \nL 21.578125 24.515625 \nQ 13.234375 26.265625 9.515625 29.90625 \nQ 5.8125 33.546875 5.8125 39.890625 \nQ 5.8125 47.609375 11.28125 51.796875 \nQ 16.75 56 26.8125 56 \nQ 31.78125 56 36.171875 55.265625 \nQ 40.578125 54.546875 44.28125 53.078125 \nz\n\" id=\"DejaVuSans-73\"/>\n     </defs>\n     <g transform=\"translate(14.798438 137.369264)rotate(-90)scale(0.1 -0.1)\">\n      <use xlink:href=\"#DejaVuSans-64\"/>\n      <use x=\"63.476562\" xlink:href=\"#DejaVuSans-65\"/>\n      <use x=\"125\" xlink:href=\"#DejaVuSans-70\"/>\n      <use x=\"188.476562\" xlink:href=\"#DejaVuSans-74\"/>\n      <use x=\"227.685547\" xlink:href=\"#DejaVuSans-68\"/>\n      <use x=\"291.064453\" xlink:href=\"#DejaVuSans-73\"/>\n     </g>\n    </g>\n   </g>\n   <g id=\"line2d_16\">\n    <path clip-path=\"url(#p76d588cf21)\" d=\"M 65.361932 206.487717 \nL 66.906925 193.9284 \nL 68.451918 185.191484 \nL 69.996911 174.816396 \nL 71.541904 167.171594 \nL 73.086897 167.171594 \nL 74.63189 160.618907 \nL 76.176883 153.520163 \nL 77.721876 150.243819 \nL 79.26687 150.243819 \nL 80.811863 144.23719 \nL 82.356856 140.960846 \nL 83.901849 134.408159 \nL 85.446842 135.500273 \nL 86.991835 132.22393 \nL 88.536828 129.493644 \nL 90.081821 130.585758 \nL 91.626814 127.855472 \nL 93.171807 123.487014 \nL 94.7168 121.848842 \nL 96.261793 114.20404 \nL 97.806786 119.118556 \nL 99.35178 113.111926 \nL 100.896773 119.118556 \nL 102.441766 118.026441 \nL 103.986759 115.842212 \nL 105.531752 110.927697 \nL 107.076745 102.736838 \nL 108.621738 105.467124 \nL 110.166731 109.835582 \nL 111.711724 106.013182 \nL 113.256717 101.098666 \nL 114.80171 102.736838 \nL 116.346703 102.190781 \nL 117.891696 101.098666 \nL 119.43669 102.190781 \nL 120.981683 98.914437 \nL 122.526676 97.276265 \nL 124.071669 95.092036 \nL 125.616662 94.545979 \nL 127.161655 92.907807 \nL 128.706648 85.809063 \nL 131.796634 93.453865 \nL 133.341627 84.170891 \nL 134.88662 93.999922 \nL 136.431613 91.815693 \nL 137.976606 86.35512 \nL 139.5216 86.35512 \nL 141.066593 78.710319 \nL 142.611586 83.078777 \nL 144.156579 76.52609 \nL 145.701572 84.170891 \nL 147.246565 82.53272 \nL 148.791558 77.618204 \nL 150.336551 76.52609 \nL 151.881544 87.447235 \nL 153.426537 74.341861 \nL 154.97153 74.887918 \nL 156.516523 84.170891 \nL 158.061516 81.440605 \nL 159.60651 72.157632 \nL 161.151503 68.335231 \nL 162.696496 78.710319 \nL 164.241489 63.966773 \nL 165.786482 81.986662 \nL 167.331475 75.980032 \nL 168.876468 77.618204 \nL 170.421461 78.164261 \nL 171.966454 66.151002 \nL 173.511447 69.427345 \nL 175.05644 73.249746 \nL 176.601433 72.703689 \nL 178.146427 74.341861 \nL 179.69142 75.433975 \nL 181.236413 65.604945 \nL 182.781406 68.881288 \nL 184.326399 59.052257 \nL 185.871392 69.427345 \nL 187.416385 68.335231 \nL 188.961378 67.789174 \nL 190.506371 75.980032 \nL 192.051364 63.420715 \nL 195.14135 56.868028 \nL 196.686343 62.874658 \nL 198.231337 54.683799 \nL 199.77633 60.690429 \nL 201.321323 56.321971 \nL 202.866316 54.137742 \nL 204.411309 62.328601 \nL 205.956302 61.782544 \nL 207.501295 66.697059 \nL 209.046288 63.966773 \nL 210.591281 61.782544 \nL 212.136274 61.782544 \nL 213.681267 50.315341 \nL 215.22626 51.953513 \nL 216.771253 56.321971 \nL 218.316247 57.960143 \nL 219.86124 48.131112 \nL 221.406233 62.328601 \nL 222.951226 60.144372 \nL 224.496219 53.045628 \nL 226.041212 45.400826 \nL 227.586205 59.598315 \nL 229.131198 54.137742 \nL 230.676191 59.598315 \nL 232.221184 60.144372 \nL 233.766177 57.414086 \nL 235.31117 54.137742 \nL 236.856163 49.223227 \nL 238.401157 48.131112 \nL 239.94615 50.861399 \nL 241.491143 55.229857 \nL 243.036136 50.315341 \nL 244.581129 56.321971 \nL 246.126122 47.585055 \nL 247.671115 51.407456 \nL 249.216108 53.591685 \nL 250.761101 49.769284 \nL 252.306094 48.131112 \nL 253.851087 40.486311 \nL 255.39608 37.209967 \nL 256.941073 47.585055 \nL 258.486067 44.854769 \nL 260.03106 46.49294 \nL 261.576053 49.769284 \nL 263.121046 44.308711 \nL 264.666039 46.49294 \nL 266.211032 44.854769 \nL 267.756025 45.946883 \nL 269.301018 41.032368 \nL 270.846011 43.762654 \nL 272.391004 44.854769 \nL 273.935997 45.400826 \nL 275.48099 38.302082 \nL 277.025984 41.578425 \nL 278.570977 43.762654 \nL 280.11597 37.209967 \nL 283.205956 40.486311 \nL 284.750949 44.854769 \nL 286.295942 44.308711 \nL 287.840935 41.578425 \nL 290.930921 40.486311 \nL 292.475914 37.209967 \nL 294.020907 40.486311 \nL 295.5659 41.578425 \nL 297.110894 35.571795 \nL 300.20088 39.940253 \nL 301.745873 34.479681 \nL 303.290866 32.295452 \nL 304.835859 41.032368 \nL 306.380852 35.025738 \nL 307.925845 38.848139 \nL 309.470838 36.66391 \nL 311.015831 29.565166 \nL 312.560824 27.926994 \nL 314.105817 37.209967 \nL 315.65081 33.933624 \nL 317.195804 36.66391 \nL 318.740797 31.203337 \nL 320.28579 36.66391 \nL 321.830783 37.756024 \nL 323.375776 35.571795 \nL 324.920769 37.756024 \nL 326.465762 35.571795 \nL 328.010755 28.473051 \nL 329.555748 27.926994 \nL 331.100741 33.933624 \nL 332.645734 36.117853 \nL 334.190727 26.288822 \nL 335.73572 26.288822 \nL 337.280714 38.302082 \nL 338.825707 35.025738 \nL 340.3707 34.479681 \nL 341.915693 36.117853 \nL 343.460686 30.111223 \nL 345.005679 21.374307 \nL 346.550672 38.302082 \nL 348.095665 27.926994 \nL 349.640658 34.479681 \nL 351.185651 30.111223 \nL 352.730644 26.834879 \nL 354.275637 29.565166 \nL 355.82063 30.111223 \nL 357.365624 29.565166 \nL 358.910617 33.933624 \nL 360.45561 37.209967 \nL 362.000603 32.841509 \nL 363.545596 25.196707 \nL 365.090589 25.742765 \nL 366.635582 34.479681 \nL 368.180575 25.742765 \nL 369.725568 25.742765 \nL 369.725568 25.742765 \n\" style=\"fill:none;stroke:#ff0000;stroke-linecap:square;\"/>\n   </g>\n   <g id=\"line2d_17\">\n    <path clip-path=\"url(#p76d588cf21)\" d=\"M 65.361932 219.047034 \nL 66.906925 212.749174 \nL 68.451918 207.525226 \nL 69.996911 202.883739 \nL 71.541904 200.262664 \nL 73.086897 198.359265 \nL 74.63189 193.955703 \nL 76.176883 188.844 \nL 77.721876 189.680075 \nL 79.26687 188.001197 \nL 80.811863 187.048079 \nL 82.356856 184.418603 \nL 86.991835 179.457883 \nL 88.536828 179.551034 \nL 90.081821 179.105979 \nL 91.626814 176.627007 \nL 93.171807 174.849159 \nL 94.7168 174.114322 \nL 96.261793 170.934425 \nL 97.806786 173.344416 \nL 99.35178 170.989445 \nL 100.896773 173.051539 \nL 102.441766 173.010207 \nL 103.986759 168.417414 \nL 105.531752 167.951676 \nL 107.076745 165.465636 \nL 108.621738 166.159568 \nL 110.166731 166.703042 \nL 111.711724 166.977062 \nL 113.256717 162.564857 \nL 114.80171 162.279564 \nL 117.891696 163.649525 \nL 119.43669 163.322629 \nL 120.981683 161.314412 \nL 122.526676 162.55111 \nL 124.071669 160.528808 \nL 125.616662 160.632226 \nL 127.161655 159.339573 \nL 128.706648 158.942639 \nL 130.251641 157.876211 \nL 131.796634 159.002578 \nL 133.341627 155.519207 \nL 134.88662 160.323804 \nL 136.431613 156.066155 \nL 137.976606 157.728147 \nL 139.5216 155.791761 \nL 141.066593 155.096234 \nL 142.611586 154.141828 \nL 144.156579 154.770943 \nL 145.701572 155.882366 \nL 147.246565 155.644822 \nL 148.791558 155.581529 \nL 150.336551 153.962757 \nL 151.881544 155.308971 \nL 153.426537 152.006011 \nL 154.97153 151.359596 \nL 156.516523 153.992816 \nL 158.061516 153.113262 \nL 159.60651 149.80524 \nL 162.696496 151.550997 \nL 164.241489 148.183694 \nL 165.786482 151.373424 \nL 167.331475 152.029748 \nL 168.876468 150.012734 \nL 170.421461 149.615074 \nL 173.511447 148.364472 \nL 175.05644 150.33807 \nL 176.601433 146.7889 \nL 178.146427 147.156776 \nL 179.69142 150.265374 \nL 181.236413 144.889622 \nL 182.781406 145.586931 \nL 184.326399 144.49432 \nL 185.871392 147.550392 \nL 187.416385 144.382805 \nL 188.961378 144.875144 \nL 190.506371 149.850395 \nL 192.051364 144.005765 \nL 193.596357 142.555333 \nL 195.14135 143.72415 \nL 196.686343 144.068979 \nL 198.231337 142.606464 \nL 199.77633 140.892129 \nL 201.321323 143.154783 \nL 202.866316 141.750529 \nL 204.411309 144.592127 \nL 205.956302 144.333484 \nL 207.501295 142.998685 \nL 209.046288 143.440521 \nL 210.591281 142.517109 \nL 212.136274 142.734125 \nL 213.681267 140.513971 \nL 215.22626 139.849978 \nL 216.771253 139.942995 \nL 218.316247 138.769048 \nL 219.86124 137.25301 \nL 221.406233 141.312867 \nL 222.951226 142.605319 \nL 224.496219 139.678392 \nL 226.041212 138.082197 \nL 227.586205 141.51711 \nL 229.131198 140.207489 \nL 230.676191 142.25936 \nL 232.221184 140.05042 \nL 233.766177 139.934652 \nL 235.31117 136.08241 \nL 238.401157 137.974775 \nL 239.94615 139.840242 \nL 241.491143 138.923488 \nL 243.036136 135.983791 \nL 244.581129 137.150477 \nL 246.126122 137.773524 \nL 247.671115 138.663765 \nL 249.216108 138.155646 \nL 250.761101 136.598654 \nL 252.306094 136.829457 \nL 253.851087 133.423494 \nL 255.39608 133.814922 \nL 256.941073 135.077296 \nL 258.486067 135.533811 \nL 260.03106 135.228098 \nL 261.576053 138.001131 \nL 263.121046 133.219434 \nL 264.666039 135.169304 \nL 267.756025 132.864418 \nL 270.846011 132.442353 \nL 272.391004 133.399559 \nL 273.935997 132.821006 \nL 275.48099 132.689266 \nL 277.025984 133.662535 \nL 278.570977 136.552604 \nL 280.11597 134.677702 \nL 281.660963 132.375442 \nL 283.205956 132.871561 \nL 284.750949 134.19732 \nL 286.295942 133.700921 \nL 287.840935 133.894267 \nL 289.385928 131.796742 \nL 290.930921 133.180268 \nL 292.475914 132.039956 \nL 294.020907 130.72118 \nL 295.5659 132.356286 \nL 297.110894 132.483307 \nL 298.655887 131.208192 \nL 300.20088 131.663689 \nL 301.745873 131.266392 \nL 303.290866 128.783769 \nL 304.835859 131.605529 \nL 306.380852 129.073387 \nL 307.925845 131.703287 \nL 309.470838 130.008985 \nL 311.015831 130.070904 \nL 312.560824 129.2523 \nL 314.105817 130.548238 \nL 315.65081 129.913841 \nL 317.195804 129.966893 \nL 318.740797 128.502188 \nL 320.28579 130.730937 \nL 321.830783 129.600905 \nL 323.375776 128.985713 \nL 324.920769 129.36516 \nL 326.465762 129.62457 \nL 328.010755 130.415591 \nL 329.555748 127.683132 \nL 331.100741 129.826299 \nL 332.645734 129.224047 \nL 334.190727 126.116155 \nL 335.73572 127.589539 \nL 337.280714 128.622406 \nL 338.825707 128.807259 \nL 340.3707 127.953762 \nL 341.915693 130.051768 \nL 345.005679 124.912134 \nL 346.550672 128.170048 \nL 348.095665 126.944589 \nL 349.640658 127.56659 \nL 351.185651 126.160066 \nL 352.730644 125.410413 \nL 354.275637 125.389836 \nL 355.82063 127.37954 \nL 357.365624 126.734196 \nL 358.910617 127.79404 \nL 360.45561 127.108533 \nL 362.000603 127.063407 \nL 363.545596 125.904227 \nL 365.090589 124.275454 \nL 366.635582 127.736836 \nL 369.725568 123.916176 \nL 369.725568 123.916176 \n\" style=\"fill:none;stroke:#0000ff;stroke-linecap:square;\"/>\n   </g>\n   <g id=\"patch_3\">\n    <path d=\"M 50.14375 228.93067 \nL 50.14375 11.49067 \n\" style=\"fill:none;stroke:#000000;stroke-linecap:square;stroke-linejoin:miter;stroke-width:0.8;\"/>\n   </g>\n   <g id=\"patch_4\">\n    <path d=\"M 384.94375 228.93067 \nL 384.94375 11.49067 \n\" style=\"fill:none;stroke:#000000;stroke-linecap:square;stroke-linejoin:miter;stroke-width:0.8;\"/>\n   </g>\n   <g id=\"patch_5\">\n    <path d=\"M 50.14375 228.93067 \nL 384.94375 228.93067 \n\" style=\"fill:none;stroke:#000000;stroke-linecap:square;stroke-linejoin:miter;stroke-width:0.8;\"/>\n   </g>\n   <g id=\"patch_6\">\n    <path d=\"M 50.14375 11.49067 \nL 384.94375 11.49067 \n\" style=\"fill:none;stroke:#000000;stroke-linecap:square;stroke-linejoin:miter;stroke-width:0.8;\"/>\n   </g>\n   <g id=\"legend_1\">\n    <g id=\"patch_7\">\n     <path d=\"M 57.14375 48.84692 \nL 162.370313 48.84692 \nQ 164.370313 48.84692 164.370313 46.84692 \nL 164.370313 18.49067 \nQ 164.370313 16.49067 162.370313 16.49067 \nL 57.14375 16.49067 \nQ 55.14375 16.49067 55.14375 18.49067 \nL 55.14375 46.84692 \nQ 55.14375 48.84692 57.14375 48.84692 \nz\n\" style=\"fill:#ffffff;opacity:0.8;stroke:#cccccc;stroke-linejoin:miter;\"/>\n    </g>\n    <g id=\"line2d_18\">\n     <path d=\"M 59.14375 24.589108 \nL 79.14375 24.589108 \n\" style=\"fill:none;stroke:#ff0000;stroke-linecap:square;\"/>\n    </g>\n    <g id=\"line2d_19\"/>\n    <g id=\"text_18\">\n     <!-- max depth -->\n     <defs>\n      <path d=\"M 52 44.1875 \nQ 55.375 50.25 60.0625 53.125 \nQ 64.75 56 71.09375 56 \nQ 79.640625 56 84.28125 50.015625 \nQ 88.921875 44.046875 88.921875 33.015625 \nL 88.921875 0 \nL 79.890625 0 \nL 79.890625 32.71875 \nQ 79.890625 40.578125 77.09375 44.375 \nQ 74.3125 48.1875 68.609375 48.1875 \nQ 61.625 48.1875 57.5625 43.546875 \nQ 53.515625 38.921875 53.515625 30.90625 \nL 53.515625 0 \nL 44.484375 0 \nL 44.484375 32.71875 \nQ 44.484375 40.625 41.703125 44.40625 \nQ 38.921875 48.1875 33.109375 48.1875 \nQ 26.21875 48.1875 22.15625 43.53125 \nQ 18.109375 38.875 18.109375 30.90625 \nL 18.109375 0 \nL 9.078125 0 \nL 9.078125 54.6875 \nL 18.109375 54.6875 \nL 18.109375 46.1875 \nQ 21.1875 51.21875 25.484375 53.609375 \nQ 29.78125 56 35.6875 56 \nQ 41.65625 56 45.828125 52.96875 \nQ 50 49.953125 52 44.1875 \nz\n\" id=\"DejaVuSans-6d\"/>\n      <path d=\"M 34.28125 27.484375 \nQ 23.390625 27.484375 19.1875 25 \nQ 14.984375 22.515625 14.984375 16.5 \nQ 14.984375 11.71875 18.140625 8.90625 \nQ 21.296875 6.109375 26.703125 6.109375 \nQ 34.1875 6.109375 38.703125 11.40625 \nQ 43.21875 16.703125 43.21875 25.484375 \nL 43.21875 27.484375 \nz\nM 52.203125 31.203125 \nL 52.203125 0 \nL 43.21875 0 \nL 43.21875 8.296875 \nQ 40.140625 3.328125 35.546875 0.953125 \nQ 30.953125 -1.421875 24.3125 -1.421875 \nQ 15.921875 -1.421875 10.953125 3.296875 \nQ 6 8.015625 6 15.921875 \nQ 6 25.140625 12.171875 29.828125 \nQ 18.359375 34.515625 30.609375 34.515625 \nL 43.21875 34.515625 \nL 43.21875 35.40625 \nQ 43.21875 41.609375 39.140625 45 \nQ 35.0625 48.390625 27.6875 48.390625 \nQ 23 48.390625 18.546875 47.265625 \nQ 14.109375 46.140625 10.015625 43.890625 \nL 10.015625 52.203125 \nQ 14.9375 54.109375 19.578125 55.046875 \nQ 24.21875 56 28.609375 56 \nQ 40.484375 56 46.34375 49.84375 \nQ 52.203125 43.703125 52.203125 31.203125 \nz\n\" id=\"DejaVuSans-61\"/>\n      <path d=\"M 54.890625 54.6875 \nL 35.109375 28.078125 \nL 55.90625 0 \nL 45.3125 0 \nL 29.390625 21.484375 \nL 13.484375 0 \nL 2.875 0 \nL 24.125 28.609375 \nL 4.6875 54.6875 \nL 15.28125 54.6875 \nL 29.78125 35.203125 \nL 44.28125 54.6875 \nz\n\" id=\"DejaVuSans-78\"/>\n      <path id=\"DejaVuSans-20\"/>\n     </defs>\n     <g transform=\"translate(87.14375 28.089108)scale(0.1 -0.1)\">\n      <use xlink:href=\"#DejaVuSans-6d\"/>\n      <use x=\"97.412109\" xlink:href=\"#DejaVuSans-61\"/>\n      <use x=\"158.691406\" xlink:href=\"#DejaVuSans-78\"/>\n      <use x=\"217.871094\" xlink:href=\"#DejaVuSans-20\"/>\n      <use x=\"249.658203\" xlink:href=\"#DejaVuSans-64\"/>\n      <use x=\"313.134766\" xlink:href=\"#DejaVuSans-65\"/>\n      <use x=\"374.658203\" xlink:href=\"#DejaVuSans-70\"/>\n      <use x=\"438.134766\" xlink:href=\"#DejaVuSans-74\"/>\n      <use x=\"477.34375\" xlink:href=\"#DejaVuSans-68\"/>\n     </g>\n    </g>\n    <g id=\"line2d_20\">\n     <path d=\"M 59.14375 39.267233 \nL 79.14375 39.267233 \n\" style=\"fill:none;stroke:#0000ff;stroke-linecap:square;\"/>\n    </g>\n    <g id=\"line2d_21\"/>\n    <g id=\"text_19\">\n     <!-- average depth -->\n     <defs>\n      <path d=\"M 2.984375 54.6875 \nL 12.5 54.6875 \nL 29.59375 8.796875 \nL 46.6875 54.6875 \nL 56.203125 54.6875 \nL 35.6875 0 \nL 23.484375 0 \nz\n\" id=\"DejaVuSans-76\"/>\n      <path d=\"M 41.109375 46.296875 \nQ 39.59375 47.171875 37.8125 47.578125 \nQ 36.03125 48 33.890625 48 \nQ 26.265625 48 22.1875 43.046875 \nQ 18.109375 38.09375 18.109375 28.8125 \nL 18.109375 0 \nL 9.078125 0 \nL 9.078125 54.6875 \nL 18.109375 54.6875 \nL 18.109375 46.1875 \nQ 20.953125 51.171875 25.484375 53.578125 \nQ 30.03125 56 36.53125 56 \nQ 37.453125 56 38.578125 55.875 \nQ 39.703125 55.765625 41.0625 55.515625 \nz\n\" id=\"DejaVuSans-72\"/>\n      <path d=\"M 45.40625 27.984375 \nQ 45.40625 37.75 41.375 43.109375 \nQ 37.359375 48.484375 30.078125 48.484375 \nQ 22.859375 48.484375 18.828125 43.109375 \nQ 14.796875 37.75 14.796875 27.984375 \nQ 14.796875 18.265625 18.828125 12.890625 \nQ 22.859375 7.515625 30.078125 7.515625 \nQ 37.359375 7.515625 41.375 12.890625 \nQ 45.40625 18.265625 45.40625 27.984375 \nz\nM 54.390625 6.78125 \nQ 54.390625 -7.171875 48.1875 -13.984375 \nQ 42 -20.796875 29.203125 -20.796875 \nQ 24.46875 -20.796875 20.265625 -20.09375 \nQ 16.0625 -19.390625 12.109375 -17.921875 \nL 12.109375 -9.1875 \nQ 16.0625 -11.328125 19.921875 -12.34375 \nQ 23.78125 -13.375 27.78125 -13.375 \nQ 36.625 -13.375 41.015625 -8.765625 \nQ 45.40625 -4.15625 45.40625 5.171875 \nL 45.40625 9.625 \nQ 42.625 4.78125 38.28125 2.390625 \nQ 33.9375 0 27.875 0 \nQ 17.828125 0 11.671875 7.65625 \nQ 5.515625 15.328125 5.515625 27.984375 \nQ 5.515625 40.671875 11.671875 48.328125 \nQ 17.828125 56 27.875 56 \nQ 33.9375 56 38.28125 53.609375 \nQ 42.625 51.21875 45.40625 46.390625 \nL 45.40625 54.6875 \nL 54.390625 54.6875 \nz\n\" id=\"DejaVuSans-67\"/>\n     </defs>\n     <g transform=\"translate(87.14375 42.767233)scale(0.1 -0.1)\">\n      <use xlink:href=\"#DejaVuSans-61\"/>\n      <use x=\"61.279297\" xlink:href=\"#DejaVuSans-76\"/>\n      <use x=\"120.458984\" xlink:href=\"#DejaVuSans-65\"/>\n      <use x=\"181.982422\" xlink:href=\"#DejaVuSans-72\"/>\n      <use x=\"223.095703\" xlink:href=\"#DejaVuSans-61\"/>\n      <use x=\"284.375\" xlink:href=\"#DejaVuSans-67\"/>\n      <use x=\"347.851562\" xlink:href=\"#DejaVuSans-65\"/>\n      <use x=\"409.375\" xlink:href=\"#DejaVuSans-20\"/>\n      <use x=\"441.162109\" xlink:href=\"#DejaVuSans-64\"/>\n      <use x=\"504.638672\" xlink:href=\"#DejaVuSans-65\"/>\n      <use x=\"566.162109\" xlink:href=\"#DejaVuSans-70\"/>\n      <use x=\"629.638672\" xlink:href=\"#DejaVuSans-74\"/>\n      <use x=\"668.847656\" xlink:href=\"#DejaVuSans-68\"/>\n     </g>\n    </g>\n   </g>\n  </g>\n </g>\n <defs>\n  <clipPath id=\"p76d588cf21\">\n   <rect height=\"217.44\" width=\"334.8\" x=\"50.14375\" y=\"11.49067\"/>\n  </clipPath>\n </defs>\n</svg>\n",
      "text/plain": "<Figure size 432x288 with 1 Axes>"
     },
     "metadata": {},
     "output_type": "display_data"
    }
   ],
   "source": [
    "import matplotlib.pyplot as plt\n",
    "plt.plot(N, max_depths, color = 'red',label = 'max depth', linewidth = 1.0)\n",
    "plt.plot(N, avg_depths, color = 'blue',label = 'average depth', linewidth = 1.0)\n",
    "plt.xlabel('$N$', fontsize=10)\n",
    "plt.ylabel('depths', fontsize=10)\n",
    "plt.legend()\n",
    "plt.show()"
   ]
  }
 ],
 "metadata": {
  "kernelspec": {
   "display_name": "Python 3",
   "language": "python",
   "name": "python3"
  },
  "language_info": {
   "codemirror_mode": {
    "name": "ipython",
    "version": 3
   },
   "file_extension": ".py",
   "mimetype": "text/x-python",
   "name": "python",
   "nbconvert_exporter": "python",
   "pygments_lexer": "ipython3",
   "version": "3.7.3-final"
  }
 },
 "nbformat": 4,
 "nbformat_minor": 2
}