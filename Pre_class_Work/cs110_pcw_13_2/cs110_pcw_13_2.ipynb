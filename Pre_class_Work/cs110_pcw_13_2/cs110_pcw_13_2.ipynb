{
 "cells": [
  {
   "cell_type": "markdown",
   "metadata": {},
   "source": [
    "Before you turn this problem in, make sure everything runs as expected. First, **restart the kernel** (in the menubar, select Kernel$\\rightarrow$Restart) and then **run all cells** (in the menubar, select Cell$\\rightarrow$Run All).\n",
    "\n",
    "Make sure you fill in any place that says `YOUR CODE HERE` or \"YOUR ANSWER HERE\", as well as your name and collaborators below:"
   ]
  },
  {
   "cell_type": "code",
   "execution_count": 1,
   "metadata": {},
   "outputs": [],
   "source": [
    "NAME = \"Haitham Alhad Hyder\"\n",
    "COLLABORATORS = \"\""
   ]
  },
  {
   "cell_type": "markdown",
   "metadata": {},
   "source": [
    "---"
   ]
  },
  {
   "cell_type": "markdown",
   "metadata": {
    "deletable": false,
    "editable": false,
    "nbgrader": {
     "checksum": "0f21ce4c9e01aa6a231ae85c9319acf3",
     "grade": false,
     "grade_id": "cell-f49515decdd20fa1",
     "locked": true,
     "schema_version": 1,
     "solution": false
    }
   },
   "source": [
    "# CS110 Pre-class Work 12.1\n",
    "\n",
    "## Question 1.\n",
    "Define the `enqueue(self, x)` and `dequeue(self)` methods of the class `Queue` below, by modifying the cell. You do not need to include the error checking for underflow and overflow. You can follow the pseudo-codes on p.235, Cormen et al. to complete this task."
   ]
  },
  {
   "cell_type": "code",
   "execution_count": 2,
   "metadata": {
    "deletable": false,
    "nbgrader": {
     "checksum": "7e29f9d49b8f1ac6d8a416278c338aaa",
     "grade": false,
     "grade_id": "cell-ebbe229b0421e86e",
     "locked": false,
     "schema_version": 1,
     "solution": true
    }
   },
   "outputs": [],
   "source": [
    "class Queue(object):\n",
    "    def __init__(self, length):\n",
    "        self.length = length\n",
    "        self.head = 1\n",
    "        self.tail = 1\n",
    "        self.q = {}\n",
    "        for i in range(1, self.length+1):\n",
    "            self.q[i] = None\n",
    "    \n",
    "    def enqueue(self, x: object) -> None:\n",
    "        \"\"\"\n",
    "        Add's a value to the queue\n",
    "\n",
    "        :param x: The value to add to the queue\n",
    "        \"\"\"\n",
    "        self.q[self.tail - 1] = x\n",
    "        if self.tail == self.length:\n",
    "            self.tail = 1\n",
    "        else:\n",
    "            self.tail += 1\n",
    "    \n",
    "    def dequeue(self) -> object:\n",
    "        \"\"\"\n",
    "        Get's the first value in the  queue\n",
    "\n",
    "        :returns the first value in the queue\n",
    "        \"\"\"\n",
    "        x: object = self.q[self.head - 1]\n",
    "        if self.head == self.length:\n",
    "            self.head = 1\n",
    "        else: \n",
    "            self.head += 1\n",
    "        return x"
   ]
  },
  {
   "cell_type": "markdown",
   "metadata": {
    "deletable": false,
    "editable": false,
    "nbgrader": {
     "checksum": "70c402b90b1c8213eaf69a116c0a3c45",
     "grade": false,
     "grade_id": "cell-9e685a1fdf0e1bf6",
     "locked": true,
     "schema_version": 1,
     "solution": false
    }
   },
   "source": [
    "## Question 2. \n",
    "\n",
    "Below, the first cell is a working code for two classes, `Node` and `Graph` that can be used to represent undirected or directed graphs. Use these two classes to complete the function `bfs` that implements the breath-first search algorithm in the second cell."
   ]
  },
  {
   "cell_type": "code",
   "execution_count": 3,
   "metadata": {
    "deletable": false,
    "editable": false,
    "nbgrader": {
     "checksum": "67f0f9b0f8b0039c23ed185490e394fb",
     "grade": false,
     "grade_id": "cell-2dfede3b8a3adb96",
     "locked": true,
     "schema_version": 1,
     "solution": false
    }
   },
   "outputs": [
    {
     "output_type": "stream",
     "name": "stdout",
     "text": "r: [s v] color: W dist: inf pi: Nil,\ns: [r w] color: W dist: inf pi: Nil,\nt: [w x u] color: W dist: inf pi: Nil,\nu: [t x y] color: W dist: inf pi: Nil,\nv: [r] color: W dist: inf pi: Nil,\nw: [s t x] color: W dist: inf pi: Nil,\nx: [w t u y] color: W dist: inf pi: Nil,\ny: [u x] color: W dist: inf pi: Nil,\n\n"
    }
   ],
   "source": [
    "class Node: \n",
    "    \n",
    "    BLACK = 'B'\n",
    "    GRAY = 'G'\n",
    "    WHITE = 'W'\n",
    "    \n",
    "    def __init__(self, name, adj_list=None, weighted_adj_list=None): \n",
    "        self.name = name\n",
    "        self.color = Node.WHITE\n",
    "        self.pi = None\n",
    "        self.dist = float('inf')\n",
    "        self.adj_list = adj_list\n",
    "        if not adj_list: \n",
    "            self.adj_list = []\n",
    "        \n",
    "    def add_edge(self, node): \n",
    "        if node.name not in self.adj_list: \n",
    "            self.adj_list.append(node.name)\n",
    "        \n",
    "    def remove_edge(self, node): \n",
    "        self.adj_list.remove(node.name)\n",
    "        \n",
    "    def to_string(self): \n",
    "        res = self.name + ': [' + ' '.join(self.adj_list) + '] color: ' + self.color + ' dist: ' + str(self.dist)\n",
    "        if not self.pi:\n",
    "            res += ' pi: Nil'\n",
    "        else: \n",
    "            res += ' pi: ' + self.pi\n",
    "        return res\n",
    "\n",
    "class Graph: \n",
    "    \n",
    "    def __init__(self, nodes={}): \n",
    "        self.nodes = nodes\n",
    "        \n",
    "    def add_node(self,node): \n",
    "        self.nodes[node.name] = node\n",
    "        \n",
    "    def add_edge(self,n1,n2): \n",
    "        self.nodes[n1].add_edge(self.nodes[n2])\n",
    "        \n",
    "    def remove_edge(self, n1, n2): \n",
    "        self.nodes[n1].remove_edge(self.nodes[n2])\n",
    "        \n",
    "    def to_string(self): \n",
    "        res = \"\"\n",
    "        for n in self.nodes.keys(): \n",
    "            res += self.nodes[n].to_string() + \",\\n\"\n",
    "        return res\n",
    "      \n",
    "g = Graph({})\n",
    "g.add_node(Node('r', ['s','v']))\n",
    "g.add_node(Node('s', ['r','w']))\n",
    "g.add_node(Node('t', ['w','x','u']))\n",
    "g.add_node(Node('u', ['t','x','y']))\n",
    "g.add_node(Node('v', ['r']))\n",
    "g.add_node(Node('w', ['s','t','x']))\n",
    "g.add_node(Node('x', ['w','t','u','y']))\n",
    "g.add_node(Node('y', ['u','x']))\n",
    "\n",
    "print(g.to_string())"
   ]
  },
  {
   "cell_type": "code",
   "execution_count": 12,
   "metadata": {
    "deletable": false,
    "nbgrader": {
     "checksum": "760f180f167347b70d63a81bd97bdc00",
     "grade": false,
     "grade_id": "cell-79459bfd60700881",
     "locked": false,
     "schema_version": 1,
     "solution": true
    }
   },
   "outputs": [],
   "source": [
    "def bfs(G: Graph,s: str) -> str:\n",
    "    \"\"\"\n",
    "    Breath-first search\n",
    "    \n",
    "    Inputs:\n",
    "    - G: a graph (instance of Graph)\n",
    "    - s: string, name of the source vertex which is an instance of Node\n",
    "    \n",
    "    Output:\n",
    "    - info: string, what is returned by G.to_string()\n",
    "    \"\"\"\n",
    "    for name, u in g.nodes.items():\n",
    "        if name != s:\n",
    "            u.color = Node.WHITE\n",
    "            u.dist = float('inf')\n",
    "            u.pi = None\n",
    "    s: Node = g.nodes[s]\n",
    "    s.color = Node.GRAY\n",
    "    s.dist = 0\n",
    "    s.pi = None\n",
    "\n",
    "    Q: Queue = Queue(len(g.nodes))\n",
    "    Q.enqueue(s)\n",
    "\n",
    "    while Q.tail != 1:\n",
    "        u: Node = Q.dequeue()\n",
    "        for v in u.adj_list:\n",
    "            v = g.nodes[v]\n",
    "            if v.color == Node.WHITE:\n",
    "                v.color = Node.GRAY\n",
    "                v.dist = u.dist + 1\n",
    "                v.pi = u\n",
    "                Q.enqueue(v)\n",
    "        u.color = Node.BLACK\n",
    "\n",
    "    return G.to_string()"
   ]
  },
  {
   "cell_type": "markdown",
   "metadata": {
    "deletable": false,
    "editable": false,
    "nbgrader": {
     "checksum": "39083ef10d9964de5fedd745ae0216a1",
     "grade": false,
     "grade_id": "cell-df5e25eea74070b9",
     "locked": true,
     "schema_version": 1,
     "solution": false
    }
   },
   "source": [
    "## Question 3.\n",
    "\n",
    "Solve exercise 22.2-1 in Cormen et al. by following these steps:\n",
    "1. Build a graph G that represents the graph in Figure 22.2-(a). The names of the vertices are noted in each vertex (1, 2, 3, 4, 5, and 6)\n",
    "2. Print the info returned by `bfs`"
   ]
  },
  {
   "cell_type": "code",
   "execution_count": 13,
   "metadata": {
    "deletable": false,
    "nbgrader": {
     "checksum": "b0d6e287db54e8c0cc714362ffdb21ef",
     "grade": true,
     "grade_id": "cell-692a09a756ecaa40",
     "locked": false,
     "points": 0,
     "schema_version": 1,
     "solution": true
    }
   },
   "outputs": [
    {
     "output_type": "stream",
     "name": "stdout",
     "text": "1: [2 4] color: W dist: inf pi: Nil,\n2: [5] color: W dist: inf pi: Nil,\n3: [6 5] color: W dist: inf pi: Nil,\n4: [2] color: W dist: inf pi: Nil,\n5: [4] color: W dist: inf pi: Nil,\n6: [6] color: W dist: inf pi: Nil,\n\n"
    },
    {
     "output_type": "error",
     "ename": "AttributeError",
     "evalue": "'NoneType' object has no attribute 'adj_list'",
     "traceback": [
      "\u001b[0;31m---------------------------------------------------------------------------\u001b[0m",
      "\u001b[0;31mAttributeError\u001b[0m                            Traceback (most recent call last)",
      "\u001b[0;32m<ipython-input-13-ffc8245884ce>\u001b[0m in \u001b[0;36m<module>\u001b[0;34m\u001b[0m\n\u001b[1;32m      9\u001b[0m \u001b[0mprint\u001b[0m\u001b[0;34m(\u001b[0m\u001b[0mg\u001b[0m\u001b[0;34m.\u001b[0m\u001b[0mto_string\u001b[0m\u001b[0;34m(\u001b[0m\u001b[0;34m)\u001b[0m\u001b[0;34m)\u001b[0m\u001b[0;34m\u001b[0m\u001b[0;34m\u001b[0m\u001b[0m\n\u001b[1;32m     10\u001b[0m \u001b[0;34m\u001b[0m\u001b[0m\n\u001b[0;32m---> 11\u001b[0;31m \u001b[0mbfs\u001b[0m\u001b[0;34m(\u001b[0m\u001b[0mg\u001b[0m\u001b[0;34m,\u001b[0m \u001b[0;34m'3'\u001b[0m\u001b[0;34m)\u001b[0m\u001b[0;34m\u001b[0m\u001b[0;34m\u001b[0m\u001b[0m\n\u001b[0m",
      "\u001b[0;32m<ipython-input-12-b2bd96a30996>\u001b[0m in \u001b[0;36mbfs\u001b[0;34m(G, s)\u001b[0m\n\u001b[1;32m     25\u001b[0m     \u001b[0;32mwhile\u001b[0m \u001b[0mQ\u001b[0m\u001b[0;34m.\u001b[0m\u001b[0mtail\u001b[0m \u001b[0;34m!=\u001b[0m \u001b[0;36m1\u001b[0m\u001b[0;34m:\u001b[0m\u001b[0;34m\u001b[0m\u001b[0;34m\u001b[0m\u001b[0m\n\u001b[1;32m     26\u001b[0m         \u001b[0mu\u001b[0m\u001b[0;34m:\u001b[0m \u001b[0mNode\u001b[0m \u001b[0;34m=\u001b[0m \u001b[0mQ\u001b[0m\u001b[0;34m.\u001b[0m\u001b[0mdequeue\u001b[0m\u001b[0;34m(\u001b[0m\u001b[0;34m)\u001b[0m\u001b[0;34m\u001b[0m\u001b[0;34m\u001b[0m\u001b[0m\n\u001b[0;32m---> 27\u001b[0;31m         \u001b[0;32mfor\u001b[0m \u001b[0mv\u001b[0m \u001b[0;32min\u001b[0m \u001b[0mu\u001b[0m\u001b[0;34m.\u001b[0m\u001b[0madj_list\u001b[0m\u001b[0;34m:\u001b[0m\u001b[0;34m\u001b[0m\u001b[0;34m\u001b[0m\u001b[0m\n\u001b[0m\u001b[1;32m     28\u001b[0m             \u001b[0mv\u001b[0m \u001b[0;34m=\u001b[0m \u001b[0mg\u001b[0m\u001b[0;34m.\u001b[0m\u001b[0mnodes\u001b[0m\u001b[0;34m[\u001b[0m\u001b[0mv\u001b[0m\u001b[0;34m]\u001b[0m\u001b[0;34m\u001b[0m\u001b[0;34m\u001b[0m\u001b[0m\n\u001b[1;32m     29\u001b[0m             \u001b[0;32mif\u001b[0m \u001b[0mv\u001b[0m\u001b[0;34m.\u001b[0m\u001b[0mcolor\u001b[0m \u001b[0;34m==\u001b[0m \u001b[0mNode\u001b[0m\u001b[0;34m.\u001b[0m\u001b[0mWHITE\u001b[0m\u001b[0;34m:\u001b[0m\u001b[0;34m\u001b[0m\u001b[0;34m\u001b[0m\u001b[0m\n",
      "\u001b[0;31mAttributeError\u001b[0m: 'NoneType' object has no attribute 'adj_list'"
     ]
    }
   ],
   "source": [
    "g = Graph({})\n",
    "g.add_node(Node('1', ['2','4']))\n",
    "g.add_node(Node('2', ['5']))\n",
    "g.add_node(Node('3', ['6','5']))\n",
    "g.add_node(Node('4', ['2']))\n",
    "g.add_node(Node('5', ['4']))\n",
    "g.add_node(Node('6', ['6']))\n",
    "\n",
    "print(g.to_string())\n",
    "\n",
    "bfs(g, '3')"
   ]
  },
  {
   "cell_type": "code",
   "execution_count": 14,
   "metadata": {},
   "outputs": [
    {
     "output_type": "stream",
     "name": "stdout",
     "text": "Following is Breadth First Traversal (starting from vertex 2)\n2 0 3 1"
    }
   ],
   "source": [
    "# Python3 Program to print BFS traversal \n",
    "# from a given source vertex. BFS(int s) \n",
    "# traverses vertices reachable from s. \n",
    "from collections import defaultdict \n",
    "  \n",
    "# This class represents a directed graph \n",
    "# using adjacency list representation \n",
    "class Graph: \n",
    "  \n",
    "    # Constructor \n",
    "    def __init__(self): \n",
    "  \n",
    "        # default dictionary to store graph \n",
    "        self.graph = defaultdict(list) \n",
    "  \n",
    "    # function to add an edge to graph \n",
    "    def addEdge(self,u,v): \n",
    "        self.graph[u].append(v) \n",
    "  \n",
    "    # Function to print a BFS of graph \n",
    "    def BFS(self, s): \n",
    "  \n",
    "        # Mark all the vertices as not visited \n",
    "        visited = [False] * (len(self.graph)) \n",
    "  \n",
    "        # Create a queue for BFS \n",
    "        queue = [] \n",
    "  \n",
    "        # Mark the source node as  \n",
    "        # visited and enqueue it \n",
    "        queue.append(s) \n",
    "        visited[s] = True\n",
    "  \n",
    "        while queue: \n",
    "  \n",
    "            # Dequeue a vertex from  \n",
    "            # queue and print it \n",
    "            s = queue.pop(0) \n",
    "            print (s, end = \" \") \n",
    "  \n",
    "            # Get all adjacent vertices of the \n",
    "            # dequeued vertex s. If a adjacent \n",
    "            # has not been visited, then mark it \n",
    "            # visited and enqueue it \n",
    "            for i in self.graph[s]: \n",
    "                if visited[i] == False: \n",
    "                    queue.append(i) \n",
    "                    visited[i] = True\n",
    "  \n",
    "# Driver code \n",
    "  \n",
    "# Create a graph given in \n",
    "# the above diagram \n",
    "g = Graph() \n",
    "g.addEdge(0, 1) \n",
    "g.addEdge(0, 2) \n",
    "g.addEdge(1, 2) \n",
    "g.addEdge(2, 0) \n",
    "g.addEdge(2, 3) \n",
    "g.addEdge(3, 3) \n",
    "  \n",
    "print (\"Following is Breadth First Traversal\"\n",
    "                  \" (starting from vertex 2)\") \n",
    "g.BFS(2) \n",
    "  \n",
    "# This code is contributed by Neelam Yadav "
   ]
  },
  {
   "cell_type": "markdown",
   "metadata": {
    "deletable": false,
    "editable": false,
    "nbgrader": {
     "checksum": "e383fc84bbdac7b0911f3d6f17c80a34",
     "grade": false,
     "grade_id": "cell-71c8b5ed8faa8e34",
     "locked": true,
     "schema_version": 1,
     "solution": false
    }
   },
   "source": [
    "## Question 4.\n",
    "Solve exercise 22.2-2 in Cormen et al. by following these steps:\n",
    "1. Build a graph G that represents the graph in Figure 22.3-(a). Note that the names of the vertices are given as `r`, `x`, `t`, `u`, etc.\n",
    "2. Print the info returned by `bfs`"
   ]
  },
  {
   "cell_type": "code",
   "execution_count": null,
   "metadata": {
    "deletable": false,
    "nbgrader": {
     "checksum": "c977a39ba030c39d3fba8cc1ca0d5dfe",
     "grade": true,
     "grade_id": "cell-eccd2dcb9f2eec18",
     "locked": false,
     "points": 0,
     "schema_version": 1,
     "solution": true
    }
   },
   "outputs": [],
   "source": [
    "g = Graph({})\n",
    "g.add_node(Node('r', ['s','v']))\n",
    "g.add_node(Node('s', ['r','w']))\n",
    "g.add_node(Node('t', ['w','x','u']))\n",
    "g.add_node(Node('u', ['t','x','y']))\n",
    "g.add_node(Node('v', ['r']))\n",
    "g.add_node(Node('w', ['s','t','x']))\n",
    "g.add_node(Node('x', ['w','t','u','y']))\n",
    "g.add_node(Node('y', ['u','x']))\n",
    "\n",
    "print(g.to_string())\n",
    "\n",
    "bfs(g, '3')"
   ]
  },
  {
   "cell_type": "markdown",
   "metadata": {
    "deletable": false,
    "editable": false,
    "nbgrader": {
     "checksum": "5a09e4cae5de3aec672714362e8b27d2",
     "grade": false,
     "grade_id": "cell-aae6917929e609dd",
     "locked": true,
     "schema_version": 1,
     "solution": false
    }
   },
   "source": [
    "## Question 5.\n",
    "Is the shortest path problem in an undirected graph suitable for a dynamic programming solution? Why or why not?\n"
   ]
  },
  {
   "cell_type": "markdown",
   "metadata": {
    "deletable": false,
    "nbgrader": {
     "checksum": "4ce458227450628bf1c354006e74dc8d",
     "grade": true,
     "grade_id": "cell-e0446af225564643",
     "locked": false,
     "points": 0,
     "schema_version": 1,
     "solution": true
    }
   },
   "source": [
    "To show that it is a dynamic programming solution, we only need to show if it contains the two elements of dynamic programming.\n",
    "\n",
    "Does it have overlapping subproblems and an optimal substructure?\n",
    "\n",
    "The shortest path problem does have overlapping problems since there are mutliple ways of gettin the shortest path.\n",
    "\n",
    "As well as an optimal substructure since there is an optimal shortest path from one node to another"
   ]
  },
  {
   "cell_type": "markdown",
   "metadata": {
    "deletable": false,
    "editable": false,
    "nbgrader": {
     "checksum": "f9a675e4875e995f261285d322e59ac2",
     "grade": false,
     "grade_id": "cell-bc2f4b735ce6608d",
     "locked": true,
     "schema_version": 1,
     "solution": false
    }
   },
   "source": [
    "## Question 6. \n",
    "Answer in prose what changes need to be made to the graph representation to incorporate the concept of edge weights."
   ]
  },
  {
   "cell_type": "markdown",
   "metadata": {
    "deletable": false,
    "nbgrader": {
     "checksum": "29d70dd6835f376857472704851c81f0",
     "grade": true,
     "grade_id": "cell-a9d4e31b797ed485",
     "locked": false,
     "points": 0,
     "schema_version": 1,
     "solution": true
    }
   },
   "source": [
    "YOUR ANSWER HERE"
   ]
  }
 ],
 "metadata": {
  "kernelspec": {
   "display_name": "Python 3",
   "language": "python",
   "name": "python3"
  },
  "language_info": {
   "codemirror_mode": {
    "name": "ipython",
    "version": 3
   },
   "file_extension": ".py",
   "mimetype": "text/x-python",
   "name": "python",
   "nbconvert_exporter": "python",
   "pygments_lexer": "ipython3",
   "version": "3.7.3-final"
  }
 },
 "nbformat": 4,
 "nbformat_minor": 2
}